{
 "cells": [
  {
   "metadata": {},
   "cell_type": "markdown",
   "source": "# Importing Libraries",
   "id": "3450782d485c751d"
  },
  {
   "metadata": {},
   "cell_type": "code",
   "source": [
    "import pandas as pd\n",
    "import numpy as np\n",
    "import matplotlib.pyplot as plt\n",
    "import seaborn as sns\n",
    "from sklearn.model_selection import train_test_split\n",
    "from sklearn.tree import DecisionTreeRegressor\n",
    "from sklearn.metrics import mean_squared_error, mean_absolute_error, r2_score\n",
    "from sklearn.preprocessing import StandardScaler"
   ],
   "id": "ea4f4a55f6452347",
   "execution_count": null,
   "outputs": []
  },
  {
   "metadata": {},
   "cell_type": "code",
   "source": "df = pd.read_csv('https://raw.githubusercontent.com/sahilrahman12/Price_prediction_of_used_Cars_-Predictive_Analysis-/master/car_data.csv')",
   "id": "ba61ddfb12761f5b",
   "execution_count": null,
   "outputs": []
  },
  {
   "metadata": {},
   "cell_type": "code",
   "source": "df.head()",
   "id": "aeb3cc0826cb4ce9",
   "execution_count": null,
   "outputs": []
  },
  {
   "metadata": {},
   "cell_type": "code",
   "source": "df.tail()",
   "id": "fff2581df84b3989",
   "execution_count": null,
   "outputs": []
  },
  {
   "metadata": {},
   "cell_type": "code",
   "source": "df.isna().sum()",
   "id": "3d76abf81a367d70",
   "execution_count": null,
   "outputs": []
  },
  {
   "metadata": {},
   "cell_type": "code",
   "source": "df.info()",
   "id": "6dee8179c01220a0",
   "execution_count": null,
   "outputs": []
  },
  {
   "metadata": {},
   "cell_type": "code",
   "source": "df.describe()",
   "id": "14177b4e79b9e2b5",
   "execution_count": null,
   "outputs": []
  },
  {
   "metadata": {},
   "cell_type": "code",
   "source": "df.shape",
   "id": "318624a94ddeedc0",
   "execution_count": null,
   "outputs": []
  },
  {
   "metadata": {},
   "cell_type": "code",
   "source": "df.ndim",
   "id": "a11a33505ab1587f",
   "execution_count": null,
   "outputs": []
  },
  {
   "metadata": {},
   "cell_type": "code",
   "source": "df.columns",
   "id": "cadaa7af867c3565",
   "execution_count": null,
   "outputs": []
  },
  {
   "metadata": {},
   "cell_type": "code",
   "source": "df.fuel.unique()",
   "id": "e471db68b899c82c",
   "execution_count": null,
   "outputs": []
  },
  {
   "metadata": {},
   "cell_type": "code",
   "source": "df.seller_type.unique()",
   "id": "9180381af9e85bf0",
   "execution_count": null,
   "outputs": []
  },
  {
   "metadata": {},
   "cell_type": "code",
   "source": "df.transmission.unique()",
   "id": "6f8eb80772661483",
   "execution_count": null,
   "outputs": []
  },
  {
   "metadata": {},
   "cell_type": "code",
   "source": "df.owner.unique()",
   "id": "ce099a865b8ccd77",
   "execution_count": null,
   "outputs": []
  },
  {
   "metadata": {},
   "cell_type": "code",
   "source": "df.owner.value_counts()",
   "id": "43e0ce8d8f73f9d1",
   "execution_count": null,
   "outputs": []
  },
  {
   "metadata": {},
   "cell_type": "code",
   "source": "df.year.unique()",
   "id": "158e888a04c67ed",
   "execution_count": null,
   "outputs": []
  },
  {
   "metadata": {},
   "cell_type": "code",
   "source": "pd.set_option('future.no_silent_downcasting', True)",
   "id": "4e4dd79dc0ca40c2",
   "execution_count": null,
   "outputs": []
  },
  {
   "metadata": {},
   "cell_type": "markdown",
   "source": [
    "# Feature Engineering\n",
    "label encoding the columns values"
   ],
   "id": "855605a3a1be8cbf"
  },
  {
   "metadata": {},
   "cell_type": "code",
   "source": [
    "df_copy = df.copy()\n",
    "df_copy.insert(df.columns.get_loc('fuel'), column='new_fuel', value=df_copy.fuel.replace({\"Petrol\": 0, \"Diesel\": 1, \"CNG\": 2, \"LPG\": 3, \"Electric\": 4}))\n",
    "df_copy.head()"
   ],
   "id": "b8d165022af87c4c",
   "execution_count": null,
   "outputs": []
  },
  {
   "metadata": {},
   "cell_type": "code",
   "source": "df_copy.new_fuel.unique()",
   "id": "f21ceb75f3496611",
   "execution_count": null,
   "outputs": []
  },
  {
   "metadata": {},
   "cell_type": "code",
   "source": [
    "df_copy.insert(df.columns.get_loc('seller_type')+1, column='new_seller_type', value=df_copy.seller_type.replace({\"Individual\": 0, \"Dealer\": 1, \"Trustmark Dealer\": 2}))\n",
    "df_copy.head()"
   ],
   "id": "788782169c68fe70",
   "execution_count": null,
   "outputs": []
  },
  {
   "metadata": {},
   "cell_type": "code",
   "source": "df_copy.new_seller_type.unique()",
   "id": "de205f5e50628e95",
   "execution_count": null,
   "outputs": []
  },
  {
   "metadata": {},
   "cell_type": "markdown",
   "source": "# Encoding and Labeling columns values by package",
   "id": "deaafc44b6f38179"
  },
  {
   "metadata": {},
   "cell_type": "code",
   "source": "from sklearn.preprocessing import LabelEncoder",
   "id": "a82c2534c7b0d899",
   "execution_count": null,
   "outputs": []
  },
  {
   "metadata": {},
   "cell_type": "code",
   "source": "new_df = df_copy.copy()",
   "id": "9c5a06f35cd094e4",
   "execution_count": null,
   "outputs": []
  },
  {
   "metadata": {},
   "cell_type": "code",
   "source": "new_df['fuel'] = LabelEncoder().fit_transform(df_copy.fuel)",
   "id": "866e973324296c9a",
   "execution_count": null,
   "outputs": []
  },
  {
   "metadata": {},
   "cell_type": "code",
   "source": "new_df['fuel'].unique()",
   "id": "2f1d11ac4de1bc03",
   "execution_count": null,
   "outputs": []
  },
  {
   "metadata": {},
   "cell_type": "markdown",
   "source": "using one-hot encoding",
   "id": "f670c482d505c676"
  },
  {
   "metadata": {},
   "cell_type": "code",
   "source": [
    "from sklearn.preprocessing import OneHotEncoder\n",
    "from sklearn.compose import ColumnTransformer"
   ],
   "id": "38001acb3ca0ebd2",
   "execution_count": null,
   "outputs": []
  },
  {
   "metadata": {},
   "cell_type": "code",
   "source": [
    "enc = OneHotEncoder(handle_unknown='ignore')\n",
    "enc.fit(new_df)\n",
    "new_df"
   ],
   "id": "313b2c6dbb99e214",
   "execution_count": null,
   "outputs": []
  },
  {
   "metadata": {},
   "cell_type": "code",
   "source": [
    "df['seller_type'] = LabelEncoder().fit_transform(df.seller_type)\n",
    "df['fuel'] = LabelEncoder().fit_transform(df.fuel)\n",
    "df['transmission'] = LabelEncoder().fit_transform(df.transmission)\n",
    "df['owner'] = LabelEncoder().fit_transform(df.owner)"
   ],
   "id": "ad52f3f5493a3041",
   "execution_count": null,
   "outputs": []
  },
  {
   "metadata": {},
   "cell_type": "code",
   "source": "df.head()",
   "id": "99aa7773b04e919e",
   "execution_count": null,
   "outputs": []
  },
  {
   "metadata": {},
   "cell_type": "code",
   "source": [
    "df['no_of_years'] = 2024 - df['year']\n",
    "df.head()"
   ],
   "id": "29f1f8b668aa69d7",
   "execution_count": null,
   "outputs": []
  },
  {
   "metadata": {},
   "cell_type": "code",
   "source": [
    "df.rename({\"selling_price\": \"current_price\"}, axis='columns', inplace=True)\n",
    "df.drop(['name', 'year'], axis='columns', inplace=True)\n",
    "df.head()"
   ],
   "id": "425682806fb851f8",
   "execution_count": null,
   "outputs": []
  },
  {
   "metadata": {},
   "cell_type": "code",
   "source": "df.info()",
   "id": "e1072c2c8372ed7f",
   "execution_count": null,
   "outputs": []
  },
  {
   "metadata": {},
   "cell_type": "code",
   "source": "df.corr()",
   "id": "cd171b157f6ccc65",
   "execution_count": null,
   "outputs": []
  },
  {
   "metadata": {},
   "cell_type": "code",
   "source": [
    "plt.figure(figsize=(10, 6))\n",
    "sns.heatmap(df.corr(), annot=True)"
   ],
   "id": "1e8dd92f19a587fb",
   "execution_count": null,
   "outputs": []
  },
  {
   "metadata": {},
   "cell_type": "code",
   "source": "df.boxplot()",
   "id": "5c8227553e497e75",
   "execution_count": null,
   "outputs": []
  },
  {
   "metadata": {},
   "cell_type": "markdown",
   "source": "# selecting the features and target",
   "id": "d8b8ee49ae508cac"
  },
  {
   "metadata": {},
   "cell_type": "code",
   "source": [
    "x = np.array(df.drop('current_price', axis=1))\n",
    "y = np.array(df['current_price'])"
   ],
   "id": "7d451a7c813e609e",
   "execution_count": null,
   "outputs": []
  },
  {
   "metadata": {},
   "cell_type": "code",
   "source": "x_train, x_test, y_train, y_test = train_test_split(x, y, test_size=0.2)",
   "id": "ceb9615f74d982b4",
   "execution_count": null,
   "outputs": []
  },
  {
   "metadata": {},
   "cell_type": "code",
   "source": [
    "regressor = DecisionTreeRegressor()\n",
    "regressor.fit(x_train, y_train)"
   ],
   "id": "e43908c1d8f6858a",
   "execution_count": null,
   "outputs": []
  },
  {
   "metadata": {},
   "cell_type": "code",
   "source": "y_pred = regressor.predict(x_test)",
   "id": "31323e69b0886d5b",
   "execution_count": null,
   "outputs": []
  },
  {
   "metadata": {},
   "cell_type": "markdown",
   "source": "# Testing the model",
   "id": "16eaf379ae123946"
  },
  {
   "metadata": {},
   "cell_type": "code",
   "source": [
    "target = pd.DataFrame({'Actual': y_test, 'Predicted': y_pred})\n",
    "target.head()"
   ],
   "id": "10c8b990279ad8d1",
   "execution_count": null,
   "outputs": []
  },
  {
   "metadata": {},
   "cell_type": "code",
   "source": [
    "plt.scatter(y_test, y_pred)\n",
    "plt.xlabel('Actual')\n",
    "plt.ylabel('Predicted')\n",
    "plt.title('Decision Tree Regression')"
   ],
   "id": "1a972a3e19ea6667",
   "execution_count": null,
   "outputs": []
  },
  {
   "metadata": {},
   "cell_type": "code",
   "source": [
    "plt.scatter(x_test, y_pred, color='red')\n",
    "plt.scatter(x_test, y_test, color='blue')\n",
    "plt.xlabel('Actual')\n",
    "plt.ylabel('Predicted')\n",
    "plt.title('Decision Tree Regression')"
   ],
   "id": "ca4ff46fadf9350f",
   "execution_count": null,
   "outputs": []
  },
  {
   "metadata": {},
   "cell_type": "markdown",
   "source": "# Performance Matrix",
   "id": "4b6d1d6653ffeb4e"
  },
  {
   "metadata": {},
   "cell_type": "code",
   "source": "r2_score(y_test, y_pred)",
   "id": "c1c4048e8d30f3b3",
   "execution_count": null,
   "outputs": []
  }
 ],
 "metadata": {
  "kernelspec": {
   "display_name": "Python 3",
   "language": "python",
   "name": "python3"
  },
  "language_info": {
   "codemirror_mode": {
    "name": "ipython",
    "version": 2
   },
   "file_extension": ".py",
   "mimetype": "text/x-python",
   "name": "python",
   "nbconvert_exporter": "python",
   "pygments_lexer": "ipython2",
   "version": "2.7.6"
  }
 },
 "nbformat": 4,
 "nbformat_minor": 5
}
