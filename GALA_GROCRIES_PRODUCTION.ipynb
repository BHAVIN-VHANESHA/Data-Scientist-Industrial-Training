{
 "cells": [
  {
   "cell_type": "code",
   "id": "initial_id",
   "metadata": {
    "collapsed": true,
    "ExecuteTime": {
     "end_time": "2024-07-12T10:35:28.865529Z",
     "start_time": "2024-07-12T10:35:28.862498Z"
    }
   },
   "source": [
    "import joblib\n",
    "import pandas as pd\n",
    "from sklearn.ensemble import RandomForestRegressor\n",
    "from sklearn.model_selection import train_test_split, KFold\n",
    "from sklearn.metrics import mean_absolute_error\n",
    "from sklearn.preprocessing import StandardScaler"
   ],
   "outputs": [],
   "execution_count": 6
  },
  {
   "metadata": {
    "ExecuteTime": {
     "end_time": "2024-07-12T10:35:29.635699Z",
     "start_time": "2024-07-12T10:35:29.631936Z"
    }
   },
   "cell_type": "code",
   "source": [
    "# Load data\n",
    "def load_data(path: str = \"/path/to/csv/\"):\n",
    "    df = pd.read_csv(f\"{path}\")\n",
    "    df.drop(columns=[\"Unnamed: 0\"], inplace=True, errors='ignore')\n",
    "    return df"
   ],
   "id": "62020324de4ffdb",
   "outputs": [],
   "execution_count": 7
  },
  {
   "metadata": {
    "ExecuteTime": {
     "end_time": "2024-07-12T10:35:30.380962Z",
     "start_time": "2024-07-12T10:35:30.377619Z"
    }
   },
   "cell_type": "code",
   "source": [
    "# Create target variable and predictor variables\n",
    "def create_target_and_predictors(\n",
    "        data: pd.DataFrame = None,\n",
    "        target: str = \"estimated_stock_pct\"\n",
    "):\n",
    "    # Check to see if the target variable is present in the data\n",
    "    if target not in data.columns:\n",
    "        raise Exception(f\"Target: {target} is not present in the data\")\n",
    "\n",
    "    X = data.drop(columns=[target])\n",
    "    y = data[target]\n",
    "    return X, y"
   ],
   "id": "2c4bccc2e8cb4f71",
   "outputs": [],
   "execution_count": 8
  },
  {
   "metadata": {
    "ExecuteTime": {
     "end_time": "2024-07-12T10:39:47.483715Z",
     "start_time": "2024-07-12T10:39:47.477953Z"
    }
   },
   "cell_type": "code",
   "source": [
    "# Train algorithm with K-Fold Cross Validation\n",
    "def train_algorithm_with_cross_validation(\n",
    "        X: pd.DataFrame = None,\n",
    "        y: pd.Series = None,\n",
    "        n_splits: int = None\n",
    "):\n",
    "    \"\"\"\n",
    "    This function takes the predictor and target variables and\n",
    "    trains a Random Forest Regressor model across K folds. Using\n",
    "    cross-validation, performance metrics will be output for each\n",
    "    fold during training.\n",
    "\n",
    "    :param      X: pd.DataFrame, predictor variables\n",
    "    :param      y: pd.Series, target variable\n",
    "    :param      n_splits: int (optional), number of folds for cross-validation\n",
    "\n",
    "    :return     model: Trained RandomForestRegressor model\n",
    "    \"\"\"\n",
    "    # Create a list that will store the MAE of each fold\n",
    "    maes = []\n",
    "\n",
    "    # Initialize KFold\n",
    "    kf = KFold(n_splits=n_splits, shuffle=True, random_state=42)\n",
    "\n",
    "    for fold, (train_index, test_index) in enumerate(kf.split(X)):\n",
    "        # Split data\n",
    "        X_train, X_test = X.iloc[train_index], X.iloc[test_index]\n",
    "        y_train, y_test = y.iloc[train_index], y.iloc[test_index]\n",
    "\n",
    "        # Instantiate algorithm and scaler\n",
    "        model = RandomForestRegressor(random_state=42)\n",
    "        scaler = StandardScaler()\n",
    "\n",
    "        # Scale X data\n",
    "        X_train = scaler.fit_transform(X_train)\n",
    "        X_test = scaler.transform(X_test)\n",
    "\n",
    "        # Train model\n",
    "        model.fit(X_train, y_train)\n",
    "\n",
    "        # Generate predictions on test sample\n",
    "        y_pred = model.predict(X_test)\n",
    "\n",
    "        # Compute MAE\n",
    "        mae = mean_absolute_error(y_test, y_pred)\n",
    "        maes.append(mae)\n",
    "        print(f\"Fold {fold + 1}: MAE = {mae:.3f}\")\n",
    "\n",
    "    # Finish by computing the average MAE across all folds\n",
    "    avg_mae = sum(maes) / len(maes)\n",
    "    print(f\"Average MAE: {avg_mae:.2f}\")\n",
    "\n",
    "    return model"
   ],
   "id": "80b0ec0025384d8c",
   "outputs": [],
   "execution_count": 11
  },
  {
   "metadata": {
    "ExecuteTime": {
     "end_time": "2024-07-12T10:35:32.945693Z",
     "start_time": "2024-07-12T10:35:32.940875Z"
    }
   },
   "cell_type": "code",
   "source": [
    "# Save the trained model\n",
    "def save_model(model, file_path):\n",
    "    \"\"\"\n",
    "    Save the trained model to a file.\n",
    "    \n",
    "    Args:\n",
    "    model: Trained model.\n",
    "    file_path (str): Path to save the model.\n",
    "    \"\"\"\n",
    "    joblib.dump(model, file_path)"
   ],
   "id": "253f0e4d659fb2a0",
   "outputs": [],
   "execution_count": 10
  },
  {
   "metadata": {},
   "cell_type": "code",
   "outputs": [],
   "execution_count": null,
   "source": [
    "# Main execution\n",
    "if __name__ == \"__main__\":\n",
    "    # File paths\n",
    "    data_file_path = 'path/to/your/data.csv'  # Change this to your CSV file path\n",
    "    model_file_path = 'path/to/save/your/model.pkl'  # Change this to your desired model save path\n",
    "\n",
    "    # Load data\n",
    "    data = load_data(data_file_path)\n",
    "\n",
    "    # Create target and predictors\n",
    "    X, y = create_target_and_predictors(data, target=\"estimated_stock_pct\")\n",
    "\n",
    "    # Train model\n",
    "    model = train_algorithm_with_cross_validation(X, y, n_splits=10)\n",
    "\n",
    "    # Save model\n",
    "    save_model(model, model_file_path)"
   ],
   "id": "d39fb10f68907a"
  }
 ],
 "metadata": {
  "kernelspec": {
   "display_name": "Python 3",
   "language": "python",
   "name": "python3"
  },
  "language_info": {
   "codemirror_mode": {
    "name": "ipython",
    "version": 2
   },
   "file_extension": ".py",
   "mimetype": "text/x-python",
   "name": "python",
   "nbconvert_exporter": "python",
   "pygments_lexer": "ipython2",
   "version": "2.7.6"
  }
 },
 "nbformat": 4,
 "nbformat_minor": 5
}
