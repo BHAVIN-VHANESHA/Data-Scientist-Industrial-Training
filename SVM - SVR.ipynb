{
 "cells": [
  {
   "metadata": {},
   "cell_type": "markdown",
   "source": [
    "Support Vector Machine(SVM): it is a supervised machine learning algorithm used for classification and regression tasks. It's particularly effective in high-dimensional spaces and is widely used in fields such as bioinformatics, text mining, image recognition, and more.\n",
    "The main idea behind SVM is to find the hyperplane that best separates different classes in the feature space. In a binary classification scenario, this hyperplane is the one that maximizes the margin, i.e., the distance between the hyperplane and the nearest data points from each class (called support vectors).\n",
    "\n",
    "Kernel: It is a function that converts lower dimensional into higher dimensional which helps to differentiate the class properly.\n",
    "There are different types of kernel: Polynomial, Sigmoid, RBF...etc.\n",
    "We will use Radial Basis Function (RBF) kernel. Also known as the Gaussian kernel.\n",
    "\n",
    "SVM is classified into two parts: Support Vector Regressor & Support Vector Classifier.\n",
    "\n",
    "Basic procedure:\n",
    "1) collect training set\n",
    "2) choose the kernel\n",
    "3) select model\n",
    "4) train model\n",
    "5) check performance"
   ]
  },
  {
   "cell_type": "markdown",
   "metadata": {
    "id": "KvIZzW7JYaR5"
   },
   "source": "# Importing the libraries"
  },
  {
   "cell_type": "code",
   "metadata": {
    "executionInfo": {
     "elapsed": 393,
     "status": "ok",
     "timestamp": 1629903328308,
     "user": {
      "displayName": "Sahil Rahman",
      "photoUrl": "https://lh3.googleusercontent.com/a-/AOh14GiJ8lzvw0EAvZyy3OveF6J53a3ecWuQmgHRsF6n6D4=s64",
      "userId": "17212050139887820689"
     },
     "user_tz": -330
    },
    "id": "vI1csQyGWoLa",
    "ExecuteTime": {
     "end_time": "2024-05-08T09:41:54.486697Z",
     "start_time": "2024-05-08T09:41:54.482059Z"
    }
   },
   "source": [
    "import numpy as np\n",
    "import pandas as pd\n",
    "import matplotlib.pyplot as plt\n",
    "import seaborn as sns\n",
    "import re\n",
    "from sklearn.metrics import r2_score, mean_absolute_error, mean_squared_error\n",
    "from sklearn.model_selection import train_test_split\n",
    "from sklearn.linear_model import LinearRegression"
   ],
   "outputs": [],
   "execution_count": 105
  },
  {
   "cell_type": "markdown",
   "metadata": {
    "id": "nwqt_wHTY_O3"
   },
   "source": [
    "# Problem Statement\n",
    "\n",
    "In  this data, we have one independent variable (Features) \"Hours of Study\" and one dependent variable (Target) \"Marks\". You have train a SVR model to understand the relationship between the Hours of Study and Marks of the student to predict the student's marks based on their number of hours dedicated to studies."
   ]
  },
  {
   "cell_type": "markdown",
   "metadata": {
    "id": "teaBYjFzuE90"
   },
   "source": [
    "# Importing the dataset"
   ]
  },
  {
   "cell_type": "code",
   "metadata": {
    "executionInfo": {
     "elapsed": 656,
     "status": "ok",
     "timestamp": 1629901870514,
     "user": {
      "displayName": "Sahil Rahman",
      "photoUrl": "https://lh3.googleusercontent.com/a-/AOh14GiJ8lzvw0EAvZyy3OveF6J53a3ecWuQmgHRsF6n6D4=s64",
      "userId": "17212050139887820689"
     },
     "user_tz": -330
    },
    "id": "ifh1zkYUWo-l",
    "ExecuteTime": {
     "end_time": "2024-05-08T09:41:55.843788Z",
     "start_time": "2024-05-08T09:41:55.013088Z"
    }
   },
   "source": [
    "df = pd.read_csv('https://raw.githubusercontent.com/mk-gurucharan/Regression/master/SampleData.csv')"
   ],
   "outputs": [],
   "execution_count": 106
  },
  {
   "cell_type": "markdown",
   "metadata": {
    "id": "6MngexOqvsmA"
   },
   "source": [
    "# EDA"
   ]
  },
  {
   "cell_type": "code",
   "metadata": {
    "colab": {
     "base_uri": "https://localhost:8080/",
     "height": 205
    },
    "executionInfo": {
     "elapsed": 680,
     "status": "ok",
     "timestamp": 1629901876782,
     "user": {
      "displayName": "Sahil Rahman",
      "photoUrl": "https://lh3.googleusercontent.com/a-/AOh14GiJ8lzvw0EAvZyy3OveF6J53a3ecWuQmgHRsF6n6D4=s64",
      "userId": "17212050139887820689"
     },
     "user_tz": -330
    },
    "id": "7nuth5dfWpBl",
    "outputId": "a7646145-2944-44f2-a8e5-3c0e7273a32d",
    "ExecuteTime": {
     "end_time": "2024-05-08T09:41:55.862705Z",
     "start_time": "2024-05-08T09:41:55.846426Z"
    }
   },
   "source": [
    "df.head()"
   ],
   "outputs": [
    {
     "data": {
      "text/plain": [
       "   Hours of Study      Marks\n",
       "0       32.502345  31.707006\n",
       "1       53.426804  68.777596\n",
       "2       61.530358  62.562382\n",
       "3       47.475640  71.546632\n",
       "4       59.813208  87.230925"
      ],
      "text/html": [
       "<div>\n",
       "<style scoped>\n",
       "    .dataframe tbody tr th:only-of-type {\n",
       "        vertical-align: middle;\n",
       "    }\n",
       "\n",
       "    .dataframe tbody tr th {\n",
       "        vertical-align: top;\n",
       "    }\n",
       "\n",
       "    .dataframe thead th {\n",
       "        text-align: right;\n",
       "    }\n",
       "</style>\n",
       "<table border=\"1\" class=\"dataframe\">\n",
       "  <thead>\n",
       "    <tr style=\"text-align: right;\">\n",
       "      <th></th>\n",
       "      <th>Hours of Study</th>\n",
       "      <th>Marks</th>\n",
       "    </tr>\n",
       "  </thead>\n",
       "  <tbody>\n",
       "    <tr>\n",
       "      <th>0</th>\n",
       "      <td>32.502345</td>\n",
       "      <td>31.707006</td>\n",
       "    </tr>\n",
       "    <tr>\n",
       "      <th>1</th>\n",
       "      <td>53.426804</td>\n",
       "      <td>68.777596</td>\n",
       "    </tr>\n",
       "    <tr>\n",
       "      <th>2</th>\n",
       "      <td>61.530358</td>\n",
       "      <td>62.562382</td>\n",
       "    </tr>\n",
       "    <tr>\n",
       "      <th>3</th>\n",
       "      <td>47.475640</td>\n",
       "      <td>71.546632</td>\n",
       "    </tr>\n",
       "    <tr>\n",
       "      <th>4</th>\n",
       "      <td>59.813208</td>\n",
       "      <td>87.230925</td>\n",
       "    </tr>\n",
       "  </tbody>\n",
       "</table>\n",
       "</div>"
      ]
     },
     "execution_count": 107,
     "metadata": {},
     "output_type": "execute_result"
    }
   ],
   "execution_count": 107
  },
  {
   "cell_type": "code",
   "metadata": {
    "colab": {
     "base_uri": "https://localhost:8080/",
     "height": 205
    },
    "executionInfo": {
     "elapsed": 692,
     "status": "ok",
     "timestamp": 1629902273556,
     "user": {
      "displayName": "Sahil Rahman",
      "photoUrl": "https://lh3.googleusercontent.com/a-/AOh14GiJ8lzvw0EAvZyy3OveF6J53a3ecWuQmgHRsF6n6D4=s64",
      "userId": "17212050139887820689"
     },
     "user_tz": -330
    },
    "id": "zl5sgemsWpEh",
    "outputId": "185beb57-e966-4079-9859-09d0db9be58a",
    "ExecuteTime": {
     "end_time": "2024-05-08T09:41:55.881625Z",
     "start_time": "2024-05-08T09:41:55.866412Z"
    }
   },
   "source": [
    "df.tail()"
   ],
   "outputs": [
    {
     "data": {
      "text/plain": [
       "    Hours of Study      Marks\n",
       "95       50.030174  81.536991\n",
       "96       49.239765  72.111832\n",
       "97       50.039576  85.232007\n",
       "98       48.149859  66.224958\n",
       "99       25.128485  53.454394"
      ],
      "text/html": [
       "<div>\n",
       "<style scoped>\n",
       "    .dataframe tbody tr th:only-of-type {\n",
       "        vertical-align: middle;\n",
       "    }\n",
       "\n",
       "    .dataframe tbody tr th {\n",
       "        vertical-align: top;\n",
       "    }\n",
       "\n",
       "    .dataframe thead th {\n",
       "        text-align: right;\n",
       "    }\n",
       "</style>\n",
       "<table border=\"1\" class=\"dataframe\">\n",
       "  <thead>\n",
       "    <tr style=\"text-align: right;\">\n",
       "      <th></th>\n",
       "      <th>Hours of Study</th>\n",
       "      <th>Marks</th>\n",
       "    </tr>\n",
       "  </thead>\n",
       "  <tbody>\n",
       "    <tr>\n",
       "      <th>95</th>\n",
       "      <td>50.030174</td>\n",
       "      <td>81.536991</td>\n",
       "    </tr>\n",
       "    <tr>\n",
       "      <th>96</th>\n",
       "      <td>49.239765</td>\n",
       "      <td>72.111832</td>\n",
       "    </tr>\n",
       "    <tr>\n",
       "      <th>97</th>\n",
       "      <td>50.039576</td>\n",
       "      <td>85.232007</td>\n",
       "    </tr>\n",
       "    <tr>\n",
       "      <th>98</th>\n",
       "      <td>48.149859</td>\n",
       "      <td>66.224958</td>\n",
       "    </tr>\n",
       "    <tr>\n",
       "      <th>99</th>\n",
       "      <td>25.128485</td>\n",
       "      <td>53.454394</td>\n",
       "    </tr>\n",
       "  </tbody>\n",
       "</table>\n",
       "</div>"
      ]
     },
     "execution_count": 108,
     "metadata": {},
     "output_type": "execute_result"
    }
   ],
   "execution_count": 108
  },
  {
   "cell_type": "code",
   "metadata": {
    "colab": {
     "base_uri": "https://localhost:8080/",
     "height": 298
    },
    "executionInfo": {
     "elapsed": 637,
     "status": "ok",
     "timestamp": 1629902299615,
     "user": {
      "displayName": "Sahil Rahman",
      "photoUrl": "https://lh3.googleusercontent.com/a-/AOh14GiJ8lzvw0EAvZyy3OveF6J53a3ecWuQmgHRsF6n6D4=s64",
      "userId": "17212050139887820689"
     },
     "user_tz": -330
    },
    "id": "I_9iqxAOWpG-",
    "outputId": "1a75a0aa-386c-4cfa-e68e-8b0fef43a7c0",
    "ExecuteTime": {
     "end_time": "2024-05-08T09:41:55.903706Z",
     "start_time": "2024-05-08T09:41:55.884583Z"
    }
   },
   "source": [
    "df.describe()"
   ],
   "outputs": [
    {
     "data": {
      "text/plain": [
       "       Hours of Study       Marks\n",
       "count      100.000000  100.000000\n",
       "mean        48.958341   72.035051\n",
       "std          9.746379   15.200087\n",
       "min         25.128485   31.707006\n",
       "25%         41.526164   60.788586\n",
       "50%         49.634970   72.179542\n",
       "75%         56.762631   83.215080\n",
       "max         70.346076   99.051415"
      ],
      "text/html": [
       "<div>\n",
       "<style scoped>\n",
       "    .dataframe tbody tr th:only-of-type {\n",
       "        vertical-align: middle;\n",
       "    }\n",
       "\n",
       "    .dataframe tbody tr th {\n",
       "        vertical-align: top;\n",
       "    }\n",
       "\n",
       "    .dataframe thead th {\n",
       "        text-align: right;\n",
       "    }\n",
       "</style>\n",
       "<table border=\"1\" class=\"dataframe\">\n",
       "  <thead>\n",
       "    <tr style=\"text-align: right;\">\n",
       "      <th></th>\n",
       "      <th>Hours of Study</th>\n",
       "      <th>Marks</th>\n",
       "    </tr>\n",
       "  </thead>\n",
       "  <tbody>\n",
       "    <tr>\n",
       "      <th>count</th>\n",
       "      <td>100.000000</td>\n",
       "      <td>100.000000</td>\n",
       "    </tr>\n",
       "    <tr>\n",
       "      <th>mean</th>\n",
       "      <td>48.958341</td>\n",
       "      <td>72.035051</td>\n",
       "    </tr>\n",
       "    <tr>\n",
       "      <th>std</th>\n",
       "      <td>9.746379</td>\n",
       "      <td>15.200087</td>\n",
       "    </tr>\n",
       "    <tr>\n",
       "      <th>min</th>\n",
       "      <td>25.128485</td>\n",
       "      <td>31.707006</td>\n",
       "    </tr>\n",
       "    <tr>\n",
       "      <th>25%</th>\n",
       "      <td>41.526164</td>\n",
       "      <td>60.788586</td>\n",
       "    </tr>\n",
       "    <tr>\n",
       "      <th>50%</th>\n",
       "      <td>49.634970</td>\n",
       "      <td>72.179542</td>\n",
       "    </tr>\n",
       "    <tr>\n",
       "      <th>75%</th>\n",
       "      <td>56.762631</td>\n",
       "      <td>83.215080</td>\n",
       "    </tr>\n",
       "    <tr>\n",
       "      <th>max</th>\n",
       "      <td>70.346076</td>\n",
       "      <td>99.051415</td>\n",
       "    </tr>\n",
       "  </tbody>\n",
       "</table>\n",
       "</div>"
      ]
     },
     "execution_count": 109,
     "metadata": {},
     "output_type": "execute_result"
    }
   ],
   "execution_count": 109
  },
  {
   "cell_type": "code",
   "metadata": {
    "colab": {
     "base_uri": "https://localhost:8080/"
    },
    "executionInfo": {
     "elapsed": 653,
     "status": "ok",
     "timestamp": 1629902356419,
     "user": {
      "displayName": "Sahil Rahman",
      "photoUrl": "https://lh3.googleusercontent.com/a-/AOh14GiJ8lzvw0EAvZyy3OveF6J53a3ecWuQmgHRsF6n6D4=s64",
      "userId": "17212050139887820689"
     },
     "user_tz": -330
    },
    "id": "KOuBS5ueWpJd",
    "outputId": "3fef780a-b473-47c4-e4bc-b97dd243f89e",
    "ExecuteTime": {
     "end_time": "2024-05-08T09:41:55.913003Z",
     "start_time": "2024-05-08T09:41:55.905425Z"
    }
   },
   "source": [
    "df.info()"
   ],
   "outputs": [
    {
     "name": "stdout",
     "output_type": "stream",
     "text": [
      "<class 'pandas.core.frame.DataFrame'>\n",
      "RangeIndex: 100 entries, 0 to 99\n",
      "Data columns (total 2 columns):\n",
      " #   Column          Non-Null Count  Dtype  \n",
      "---  ------          --------------  -----  \n",
      " 0   Hours of Study  100 non-null    float64\n",
      " 1   Marks           100 non-null    float64\n",
      "dtypes: float64(2)\n",
      "memory usage: 1.7 KB\n"
     ]
    }
   ],
   "execution_count": 110
  },
  {
   "cell_type": "code",
   "metadata": {
    "colab": {
     "base_uri": "https://localhost:8080/"
    },
    "executionInfo": {
     "elapsed": 687,
     "status": "ok",
     "timestamp": 1629902817123,
     "user": {
      "displayName": "Sahil Rahman",
      "photoUrl": "https://lh3.googleusercontent.com/a-/AOh14GiJ8lzvw0EAvZyy3OveF6J53a3ecWuQmgHRsF6n6D4=s64",
      "userId": "17212050139887820689"
     },
     "user_tz": -330
    },
    "id": "_MHz1ZgkxzPu",
    "outputId": "48d9d5ee-3b65-4cc0-a9c6-bdd1cb1ece37",
    "ExecuteTime": {
     "end_time": "2024-05-08T09:41:55.921219Z",
     "start_time": "2024-05-08T09:41:55.914568Z"
    }
   },
   "source": [
    "df.columns"
   ],
   "outputs": [
    {
     "data": {
      "text/plain": [
       "Index(['Hours of Study', 'Marks'], dtype='object')"
      ]
     },
     "execution_count": 111,
     "metadata": {},
     "output_type": "execute_result"
    }
   ],
   "execution_count": 111
  },
  {
   "cell_type": "code",
   "metadata": {
    "executionInfo": {
     "elapsed": 5,
     "status": "ok",
     "timestamp": 1629902993324,
     "user": {
      "displayName": "Sahil Rahman",
      "photoUrl": "https://lh3.googleusercontent.com/a-/AOh14GiJ8lzvw0EAvZyy3OveF6J53a3ecWuQmgHRsF6n6D4=s64",
      "userId": "17212050139887820689"
     },
     "user_tz": -330
    },
    "id": "Et5jdJrSwpsK",
    "ExecuteTime": {
     "end_time": "2024-05-08T09:41:55.931964Z",
     "start_time": "2024-05-08T09:41:55.924439Z"
    }
   },
   "source": "df.rename(columns={'Hours of Study':'Hours'}, inplace=True)",
   "outputs": [],
   "execution_count": 112
  },
  {
   "cell_type": "code",
   "metadata": {
    "colab": {
     "base_uri": "https://localhost:8080/"
    },
    "executionInfo": {
     "elapsed": 686,
     "status": "ok",
     "timestamp": 1629903000048,
     "user": {
      "displayName": "Sahil Rahman",
      "photoUrl": "https://lh3.googleusercontent.com/a-/AOh14GiJ8lzvw0EAvZyy3OveF6J53a3ecWuQmgHRsF6n6D4=s64",
      "userId": "17212050139887820689"
     },
     "user_tz": -330
    },
    "id": "ZDyF0_OsWpL8",
    "outputId": "62d6ad62-7105-4048-ce42-31ddb1cddbbd",
    "ExecuteTime": {
     "end_time": "2024-05-08T09:41:55.940928Z",
     "start_time": "2024-05-08T09:41:55.933473Z"
    }
   },
   "source": [
    "df.isnull().sum()"
   ],
   "outputs": [
    {
     "data": {
      "text/plain": [
       "Hours    0\n",
       "Marks    0\n",
       "dtype: int64"
      ]
     },
     "execution_count": 113,
     "metadata": {},
     "output_type": "execute_result"
    }
   ],
   "execution_count": 113
  },
  {
   "cell_type": "code",
   "metadata": {
    "colab": {
     "base_uri": "https://localhost:8080/",
     "height": 312
    },
    "executionInfo": {
     "elapsed": 940,
     "status": "ok",
     "timestamp": 1629903075895,
     "user": {
      "displayName": "Sahil Rahman",
      "photoUrl": "https://lh3.googleusercontent.com/a-/AOh14GiJ8lzvw0EAvZyy3OveF6J53a3ecWuQmgHRsF6n6D4=s64",
      "userId": "17212050139887820689"
     },
     "user_tz": -330
    },
    "id": "ABDU-gIhWpO4",
    "outputId": "a8deb9d8-4bf7-4544-a88d-c19d133657cb",
    "ExecuteTime": {
     "end_time": "2024-05-08T09:41:56.398119Z",
     "start_time": "2024-05-08T09:41:55.943046Z"
    }
   },
   "source": [
    "plt.scatter(df.Hours, df.Marks)\n",
    "plt.xlabel('Hours of Study')\n",
    "plt.ylabel('Marks')\n",
    "plt.title('Hours of Study V/s Marks')"
   ],
   "outputs": [
    {
     "data": {
      "text/plain": [
       "Text(0.5, 1.0, 'Hours of Study V/s Marks')"
      ]
     },
     "execution_count": 114,
     "metadata": {},
     "output_type": "execute_result"
    },
    {
     "data": {
      "text/plain": [
       "<Figure size 640x480 with 1 Axes>"
      ],
      "image/png": "[encoded data removed]"
     },
     "metadata": {},
     "output_type": "display_data"
    }
   ],
   "execution_count": 114
  },
  {
   "cell_type": "code",
   "metadata": {
    "colab": {
     "base_uri": "https://localhost:8080/",
     "height": 612
    },
    "executionInfo": {
     "elapsed": 845,
     "status": "ok",
     "timestamp": 1629903333556,
     "user": {
      "displayName": "Sahil Rahman",
      "photoUrl": "https://lh3.googleusercontent.com/a-/AOh14GiJ8lzvw0EAvZyy3OveF6J53a3ecWuQmgHRsF6n6D4=s64",
      "userId": "17212050139887820689"
     },
     "user_tz": -330
    },
    "id": "ugWAkX_lWpRa",
    "outputId": "42896c8c-addb-4779-c4f1-0c98b6d4ef09",
    "ExecuteTime": {
     "end_time": "2024-05-08T09:41:56.697970Z",
     "start_time": "2024-05-08T09:41:56.401070Z"
    }
   },
   "source": [
    "plt.figure(figsize=(6,6))\n",
    "sns.heatmap(df.corr(),annot=True, cmap='copper')"
   ],
   "outputs": [
    {
     "data": {
      "text/plain": [
       "<Axes: >"
      ]
     },
     "execution_count": 115,
     "metadata": {},
     "output_type": "execute_result"
    },
    {
     "data": {
      "text/plain": [
       "<Figure size 600x600 with 2 Axes>"
      ],
      "image/png": "[encoded data removed]"
     },
     "metadata": {},
     "output_type": "display_data"
    }
   ],
   "execution_count": 115
  },
  {
   "cell_type": "code",
   "metadata": {
    "colab": {
     "base_uri": "https://localhost:8080/",
     "height": 282
    },
    "executionInfo": {
     "elapsed": 710,
     "status": "ok",
     "timestamp": 1629903467760,
     "user": {
      "displayName": "Sahil Rahman",
      "photoUrl": "https://lh3.googleusercontent.com/a-/AOh14GiJ8lzvw0EAvZyy3OveF6J53a3ecWuQmgHRsF6n6D4=s64",
      "userId": "17212050139887820689"
     },
     "user_tz": -330
    },
    "id": "2-IyQtkUWpV5",
    "outputId": "dffd6b73-6821-46dd-bb9b-1f040a007506",
    "ExecuteTime": {
     "end_time": "2024-05-08T09:41:57.045634Z",
     "start_time": "2024-05-08T09:41:56.699742Z"
    }
   },
   "source": [
    "plt.plot(df.Hours,df.Marks)"
   ],
   "outputs": [
    {
     "data": {
      "text/plain": [
       "[<matplotlib.lines.Line2D at 0x7f83c679a300>]"
      ]
     },
     "execution_count": 116,
     "metadata": {},
     "output_type": "execute_result"
    },
    {
     "data": {
      "text/plain": [
       "<Figure size 640x480 with 1 Axes>"
      ],
      "image/png": "[encoded data removed]"
     },
     "metadata": {},
     "output_type": "display_data"
    }
   ],
   "execution_count": 116
  },
  {
   "cell_type": "markdown",
   "metadata": {
    "id": "jMlhAR0P0i95"
   },
   "source": [
    "# Feature Scalling\n",
    "scale each values from -1 to 1\n",
    "* Standardization\n",
    "* Normalisation"
   ]
  },
  {
   "cell_type": "code",
   "metadata": {
    "colab": {
     "base_uri": "https://localhost:8080/",
     "height": 205
    },
    "executionInfo": {
     "elapsed": 414,
     "status": "ok",
     "timestamp": 1629903589503,
     "user": {
      "displayName": "Sahil Rahman",
      "photoUrl": "https://lh3.googleusercontent.com/a-/AOh14GiJ8lzvw0EAvZyy3OveF6J53a3ecWuQmgHRsF6n6D4=s64",
      "userId": "17212050139887820689"
     },
     "user_tz": -330
    },
    "id": "LZaKMxrIWpX-",
    "outputId": "d8dc3669-f41b-49de-9ea5-8b7b49d646b8",
    "ExecuteTime": {
     "end_time": "2024-05-08T09:41:57.057257Z",
     "start_time": "2024-05-08T09:41:57.047961Z"
    }
   },
   "source": [
    "df.head()"
   ],
   "outputs": [
    {
     "data": {
      "text/plain": [
       "       Hours      Marks\n",
       "0  32.502345  31.707006\n",
       "1  53.426804  68.777596\n",
       "2  61.530358  62.562382\n",
       "3  47.475640  71.546632\n",
       "4  59.813208  87.230925"
      ],
      "text/html": [
       "<div>\n",
       "<style scoped>\n",
       "    .dataframe tbody tr th:only-of-type {\n",
       "        vertical-align: middle;\n",
       "    }\n",
       "\n",
       "    .dataframe tbody tr th {\n",
       "        vertical-align: top;\n",
       "    }\n",
       "\n",
       "    .dataframe thead th {\n",
       "        text-align: right;\n",
       "    }\n",
       "</style>\n",
       "<table border=\"1\" class=\"dataframe\">\n",
       "  <thead>\n",
       "    <tr style=\"text-align: right;\">\n",
       "      <th></th>\n",
       "      <th>Hours</th>\n",
       "      <th>Marks</th>\n",
       "    </tr>\n",
       "  </thead>\n",
       "  <tbody>\n",
       "    <tr>\n",
       "      <th>0</th>\n",
       "      <td>32.502345</td>\n",
       "      <td>31.707006</td>\n",
       "    </tr>\n",
       "    <tr>\n",
       "      <th>1</th>\n",
       "      <td>53.426804</td>\n",
       "      <td>68.777596</td>\n",
       "    </tr>\n",
       "    <tr>\n",
       "      <th>2</th>\n",
       "      <td>61.530358</td>\n",
       "      <td>62.562382</td>\n",
       "    </tr>\n",
       "    <tr>\n",
       "      <th>3</th>\n",
       "      <td>47.475640</td>\n",
       "      <td>71.546632</td>\n",
       "    </tr>\n",
       "    <tr>\n",
       "      <th>4</th>\n",
       "      <td>59.813208</td>\n",
       "      <td>87.230925</td>\n",
       "    </tr>\n",
       "  </tbody>\n",
       "</table>\n",
       "</div>"
      ]
     },
     "execution_count": 117,
     "metadata": {},
     "output_type": "execute_result"
    }
   ],
   "execution_count": 117
  },
  {
   "cell_type": "code",
   "metadata": {
    "executionInfo": {
     "elapsed": 643,
     "status": "ok",
     "timestamp": 1629903840121,
     "user": {
      "displayName": "Sahil Rahman",
      "photoUrl": "https://lh3.googleusercontent.com/a-/AOh14GiJ8lzvw0EAvZyy3OveF6J53a3ecWuQmgHRsF6n6D4=s64",
      "userId": "17212050139887820689"
     },
     "user_tz": -330
    },
    "id": "xhRU5MIJWpdc",
    "ExecuteTime": {
     "end_time": "2024-05-08T09:41:57.063011Z",
     "start_time": "2024-05-08T09:41:57.058888Z"
    }
   },
   "source": [
    "from sklearn.preprocessing import StandardScaler"
   ],
   "outputs": [],
   "execution_count": 118
  },
  {
   "cell_type": "code",
   "metadata": {
    "executionInfo": {
     "elapsed": 409,
     "status": "ok",
     "timestamp": 1629904469740,
     "user": {
      "displayName": "Sahil Rahman",
      "photoUrl": "https://lh3.googleusercontent.com/a-/AOh14GiJ8lzvw0EAvZyy3OveF6J53a3ecWuQmgHRsF6n6D4=s64",
      "userId": "17212050139887820689"
     },
     "user_tz": -330
    },
    "id": "jo8YFy3OWpgX",
    "ExecuteTime": {
     "end_time": "2024-05-08T09:41:57.265387Z",
     "start_time": "2024-05-08T09:41:57.254750Z"
    }
   },
   "source": [
    "X = df.iloc[:,:-1].values\n",
    "y = df.iloc[:,-1].values"
   ],
   "outputs": [],
   "execution_count": 119
  },
  {
   "cell_type": "code",
   "metadata": {
    "executionInfo": {
     "elapsed": 661,
     "status": "ok",
     "timestamp": 1629904513491,
     "user": {
      "displayName": "Sahil Rahman",
      "photoUrl": "https://lh3.googleusercontent.com/a-/AOh14GiJ8lzvw0EAvZyy3OveF6J53a3ecWuQmgHRsF6n6D4=s64",
      "userId": "17212050139887820689"
     },
     "user_tz": -330
    },
    "id": "bi8OlvaBWpix",
    "ExecuteTime": {
     "end_time": "2024-05-08T09:41:57.666880Z",
     "start_time": "2024-05-08T09:41:57.663075Z"
    }
   },
   "source": "stanscale = StandardScaler()",
   "outputs": [],
   "execution_count": 120
  },
  {
   "cell_type": "code",
   "metadata": {
    "executionInfo": {
     "elapsed": 390,
     "status": "ok",
     "timestamp": 1629904634622,
     "user": {
      "displayName": "Sahil Rahman",
      "photoUrl": "https://lh3.googleusercontent.com/a-/AOh14GiJ8lzvw0EAvZyy3OveF6J53a3ecWuQmgHRsF6n6D4=s64",
      "userId": "17212050139887820689"
     },
     "user_tz": -330
    },
    "id": "LSvNJrAX2xQy",
    "ExecuteTime": {
     "end_time": "2024-05-08T09:41:57.826194Z",
     "start_time": "2024-05-08T09:41:57.818481Z"
    }
   },
   "source": [
    "X = stanscale.fit_transform(X.reshape(-1,1))\n",
    "y = stanscale.fit_transform(y.reshape(-1,1))"
   ],
   "outputs": [],
   "execution_count": 121
  },
  {
   "metadata": {
    "ExecuteTime": {
     "end_time": "2024-05-08T09:41:58.053373Z",
     "start_time": "2024-05-08T09:41:58.045251Z"
    }
   },
   "cell_type": "code",
   "source": "X",
   "outputs": [
    {
     "data": {
      "text/plain": [
       "array([[-1.69692744e+00],\n",
       "       [ 4.60783817e-01],\n",
       "       [ 1.29641497e+00],\n",
       "       [-1.52894871e-01],\n",
       "       [ 1.11934400e+00],\n",
       "       [ 6.37672702e-01],\n",
       "       [ 3.35493359e-01],\n",
       "       [-9.96004115e-01],\n",
       "       [-8.79915004e-02],\n",
       "       [ 3.70370068e-01],\n",
       "       [-3.64898398e-01],\n",
       "       [ 5.56151537e-01],\n",
       "       [-4.94383049e-01],\n",
       "       [ 9.49740196e-01],\n",
       "       [ 8.01118494e-01],\n",
       "       [-2.52939962e-04],\n",
       "       [-4.40436632e-01],\n",
       "       [ 1.16926591e+00],\n",
       "       [-3.44386604e-01],\n",
       "       [-1.04578477e+00],\n",
       "       [ 1.77689413e+00],\n",
       "       [ 1.69710419e+00],\n",
       "       [-1.52320603e-01],\n",
       "       [-7.61297225e-01],\n",
       "       [ 2.97688891e-01],\n",
       "       [ 1.07372557e+00],\n",
       "       [ 8.61215827e-01],\n",
       "       [ 1.51143924e+00],\n",
       "       [-2.28998849e-01],\n",
       "       [ 1.64827489e-01],\n",
       "       [ 3.36751351e-01],\n",
       "       [-1.38081742e+00],\n",
       "       [-6.72528769e-01],\n",
       "       [ 9.49334875e-01],\n",
       "       [ 8.81266735e-01],\n",
       "       [-3.62753460e-01],\n",
       "       [ 1.33414261e+00],\n",
       "       [-1.63593389e+00],\n",
       "       [-1.29129154e+00],\n",
       "       [-1.16346043e+00],\n",
       "       [-4.54005852e-01],\n",
       "       [-5.81597764e-01],\n",
       "       [ 1.14957597e-01],\n",
       "       [-5.24641992e-01],\n",
       "       [ 1.44770334e+00],\n",
       "       [-1.67973764e+00],\n",
       "       [-9.06565591e-01],\n",
       "       [ 4.76073646e-01],\n",
       "       [-1.55649267e+00],\n",
       "       [ 1.62400172e+00],\n",
       "       [-1.11765811e+00],\n",
       "       [-4.59478415e-01],\n",
       "       [-8.61952211e-01],\n",
       "       [-7.46341477e-01],\n",
       "       [ 2.19673909e-01],\n",
       "       [ 6.31063541e-01],\n",
       "       [-7.81706153e-01],\n",
       "       [ 1.39585678e+00],\n",
       "       [ 2.53204894e-02],\n",
       "       [-8.10068167e-01],\n",
       "       [-8.01887634e-01],\n",
       "       [ 1.26635202e-01],\n",
       "       [ 3.52678108e-01],\n",
       "       [ 1.21386027e-01],\n",
       "       [-1.57912823e+00],\n",
       "       [-9.69364892e-01],\n",
       "       [ 7.39575034e-01],\n",
       "       [ 8.66583041e-01],\n",
       "       [ 1.16636698e+00],\n",
       "       [-1.36944711e+00],\n",
       "       [-1.79120183e+00],\n",
       "       [ 4.84926908e-01],\n",
       "       [-2.34710694e-01],\n",
       "       [-6.03300457e-01],\n",
       "       [ 2.20548379e+00],\n",
       "       [-4.60476833e-01],\n",
       "       [ 8.81275570e-01],\n",
       "       [-1.24034379e+00],\n",
       "       [ 7.06096857e-01],\n",
       "       [-1.03155933e+00],\n",
       "       [ 8.19061902e-01],\n",
       "       [ 8.15729707e-01],\n",
       "       [-1.50813912e+00],\n",
       "       [ 1.04061601e+00],\n",
       "       [ 9.10529497e-01],\n",
       "       [ 5.49004748e-01],\n",
       "       [ 2.19682697e-01],\n",
       "       [ 1.36580714e-01],\n",
       "       [-4.89465068e-01],\n",
       "       [-1.12944834e+00],\n",
       "       [-1.65174739e+00],\n",
       "       [ 4.88093418e-01],\n",
       "       [ 2.04252042e+00],\n",
       "       [-2.81244438e-01],\n",
       "       [ 1.99649080e+00],\n",
       "       [ 1.10526437e-01],\n",
       "       [ 2.90201757e-02],\n",
       "       [ 1.11495921e-01],\n",
       "       [-8.33699913e-02],\n",
       "       [-2.45731327e+00]])"
      ]
     },
     "execution_count": 122,
     "metadata": {},
     "output_type": "execute_result"
    }
   ],
   "execution_count": 122
  },
  {
   "metadata": {
    "ExecuteTime": {
     "end_time": "2024-05-08T09:41:58.154921Z",
     "start_time": "2024-05-08T09:41:58.148960Z"
    }
   },
   "cell_type": "code",
   "source": "y",
   "outputs": [
    {
     "data": {
      "text/plain": [
       "array([[-2.66651176],\n",
       "       [-0.21538463],\n",
       "       [-0.62633786],\n",
       "       [-0.03229448],\n",
       "       [ 1.00475931],\n",
       "       [ 0.40839133],\n",
       "       [ 0.50297376],\n",
       "       [-0.85054551],\n",
       "       [ 0.21794595],\n",
       "       [-0.04854375],\n",
       "       [-1.11541194],\n",
       "       [ 0.69054936],\n",
       "       [-0.66293287],\n",
       "       [ 0.22202084],\n",
       "       [ 0.62160848],\n",
       "       [-0.74791896],\n",
       "       [ 0.71790058],\n",
       "       [ 1.67581471],\n",
       "       [-1.5331961 ],\n",
       "       [-1.00224427],\n",
       "       [ 0.78309945],\n",
       "       [ 1.75590787],\n",
       "       [-0.9774751 ],\n",
       "       [-1.3649464 ],\n",
       "       [ 0.22121292],\n",
       "       [ 0.180543  ],\n",
       "       [ 1.54854301],\n",
       "       [ 1.53362047],\n",
       "       [ 0.46399128],\n",
       "       [ 0.75357708],\n",
       "       [-0.57367894],\n",
       "       [-2.02475385],\n",
       "       [ 0.3029835 ],\n",
       "       [ 1.63545934],\n",
       "       [ 0.13548623],\n",
       "       [-0.36015233],\n",
       "       [ 0.37909756],\n",
       "       [-1.40938966],\n",
       "       [-0.65528619],\n",
       "       [-0.74219   ],\n",
       "       [-1.27956897],\n",
       "       [-0.89032789],\n",
       "       [ 0.71879173],\n",
       "       [-0.70156137],\n",
       "       [ 1.53459818],\n",
       "       [-1.74984428],\n",
       "       [-1.18692938],\n",
       "       [ 1.05524416],\n",
       "       [-1.27675812],\n",
       "       [ 1.42430688],\n",
       "       [ 0.53764091],\n",
       "       [-0.45843606],\n",
       "       [-0.42798163],\n",
       "       [-0.44658889],\n",
       "       [ 0.0925417 ],\n",
       "       [-0.05919921],\n",
       "       [ 0.46732531],\n",
       "       [ 0.95778816],\n",
       "       [ 0.84023639],\n",
       "       [-0.8381571 ],\n",
       "       [-0.68441449],\n",
       "       [-0.14463512],\n",
       "       [ 0.92986895],\n",
       "       [-0.85468796],\n",
       "       [-0.14119173],\n",
       "       [-1.79666411],\n",
       "       [ 0.89018186],\n",
       "       [ 1.55394069],\n",
       "       [-0.11790059],\n",
       "       [-1.2770067 ],\n",
       "       [-1.4310057 ],\n",
       "       [-0.5549266 ],\n",
       "       [ 0.01403081],\n",
       "       [-0.94040175],\n",
       "       [ 1.46933383],\n",
       "       [ 0.96582061],\n",
       "       [ 1.28615856],\n",
       "       [-1.11104906],\n",
       "       [ 0.49692133],\n",
       "       [-1.79768014],\n",
       "       [ 0.54036823],\n",
       "       [ 0.73444698],\n",
       "       [-1.07852911],\n",
       "       [ 0.37021758],\n",
       "       [ 1.78633637],\n",
       "       [ 0.46850336],\n",
       "       [-0.16174092],\n",
       "       [-0.16692441],\n",
       "       [ 0.10926509],\n",
       "       [-0.70538349],\n",
       "       [-0.32163637],\n",
       "       [ 0.9014313 ],\n",
       "       [ 1.50879256],\n",
       "       [ 1.19602266],\n",
       "       [ 1.71151479],\n",
       "       [ 0.62827334],\n",
       "       [ 0.00507686],\n",
       "       [ 0.8725898 ],\n",
       "       [-0.38416642],\n",
       "       [-1.22856288]])"
      ]
     },
     "execution_count": 123,
     "metadata": {},
     "output_type": "execute_result"
    }
   ],
   "execution_count": 123
  },
  {
   "cell_type": "code",
   "metadata": {
    "executionInfo": {
     "elapsed": 678,
     "status": "ok",
     "timestamp": 1629904833064,
     "user": {
      "displayName": "Sahil Rahman",
      "photoUrl": "https://lh3.googleusercontent.com/a-/AOh14GiJ8lzvw0EAvZyy3OveF6J53a3ecWuQmgHRsF6n6D4=s64",
      "userId": "17212050139887820689"
     },
     "user_tz": -330
    },
    "id": "1ZvXooxOWplh",
    "ExecuteTime": {
     "end_time": "2024-05-08T09:41:58.247823Z",
     "start_time": "2024-05-08T09:41:58.241076Z"
    }
   },
   "source": "X_train, X_test, y_train, y_test = train_test_split(X,y, test_size=0.2, random_state=10)",
   "outputs": [],
   "execution_count": 124
  },
  {
   "cell_type": "code",
   "metadata": {
    "colab": {
     "base_uri": "https://localhost:8080/"
    },
    "executionInfo": {
     "elapsed": 676,
     "status": "ok",
     "timestamp": 1629904842276,
     "user": {
      "displayName": "Sahil Rahman",
      "photoUrl": "https://lh3.googleusercontent.com/a-/AOh14GiJ8lzvw0EAvZyy3OveF6J53a3ecWuQmgHRsF6n6D4=s64",
      "userId": "17212050139887820689"
     },
     "user_tz": -330
    },
    "id": "joJRvj5dWpoF",
    "outputId": "ebf8361b-ff3b-4021-998b-90c4e20b7c60",
    "ExecuteTime": {
     "end_time": "2024-05-08T09:41:58.472169Z",
     "start_time": "2024-05-08T09:41:58.460711Z"
    }
   },
   "source": [
    "X_train.shape"
   ],
   "outputs": [
    {
     "data": {
      "text/plain": [
       "(80, 1)"
      ]
     },
     "execution_count": 125,
     "metadata": {},
     "output_type": "execute_result"
    }
   ],
   "execution_count": 125
  },
  {
   "metadata": {
    "ExecuteTime": {
     "end_time": "2024-05-08T09:41:58.600956Z",
     "start_time": "2024-05-08T09:41:58.593140Z"
    }
   },
   "cell_type": "code",
   "source": "y_train.shape",
   "outputs": [
    {
     "data": {
      "text/plain": [
       "(80, 1)"
      ]
     },
     "execution_count": 126,
     "metadata": {},
     "output_type": "execute_result"
    }
   ],
   "execution_count": 126
  },
  {
   "cell_type": "code",
   "metadata": {
    "executionInfo": {
     "elapsed": 407,
     "status": "ok",
     "timestamp": 1629904964995,
     "user": {
      "displayName": "Sahil Rahman",
      "photoUrl": "https://lh3.googleusercontent.com/a-/AOh14GiJ8lzvw0EAvZyy3OveF6J53a3ecWuQmgHRsF6n6D4=s64",
      "userId": "17212050139887820689"
     },
     "user_tz": -330
    },
    "id": "y_nvIY7HWpqr",
    "ExecuteTime": {
     "end_time": "2024-05-08T09:41:58.693754Z",
     "start_time": "2024-05-08T09:41:58.689973Z"
    }
   },
   "source": [
    "from sklearn.svm import SVR"
   ],
   "outputs": [],
   "execution_count": 127
  },
  {
   "cell_type": "code",
   "metadata": {
    "executionInfo": {
     "elapsed": 685,
     "status": "ok",
     "timestamp": 1629905044162,
     "user": {
      "displayName": "Sahil Rahman",
      "photoUrl": "https://lh3.googleusercontent.com/a-/AOh14GiJ8lzvw0EAvZyy3OveF6J53a3ecWuQmgHRsF6n6D4=s64",
      "userId": "17212050139887820689"
     },
     "user_tz": -330
    },
    "id": "QW1CKep0WpyY",
    "ExecuteTime": {
     "end_time": "2024-05-08T09:41:58.874662Z",
     "start_time": "2024-05-08T09:41:58.871074Z"
    }
   },
   "source": [
    "model = SVR(kernel='rbf')"
   ],
   "outputs": [],
   "execution_count": 128
  },
  {
   "cell_type": "code",
   "metadata": {
    "colab": {
     "base_uri": "https://localhost:8080/"
    },
    "executionInfo": {
     "elapsed": 670,
     "status": "ok",
     "timestamp": 1629905046935,
     "user": {
      "displayName": "Sahil Rahman",
      "photoUrl": "https://lh3.googleusercontent.com/a-/AOh14GiJ8lzvw0EAvZyy3OveF6J53a3ecWuQmgHRsF6n6D4=s64",
      "userId": "17212050139887820689"
     },
     "user_tz": -330
    },
    "id": "NDLpUi-zWp12",
    "outputId": "d46eaa5f-04ec-4152-e122-a06796c302fb",
    "ExecuteTime": {
     "end_time": "2024-05-08T09:44:49.529433Z",
     "start_time": "2024-05-08T09:44:49.519288Z"
    }
   },
   "source": "model.fit(X_train,y_train.ravel())",
   "outputs": [
    {
     "data": {
      "text/plain": [
       "SVR()"
      ],
      "text/html": [
       "<style>#sk-container-id-5 {\n",
       "  /* Definition of color scheme common for light and dark mode */\n",
       "  --sklearn-color-text: black;\n",
       "  --sklearn-color-line: gray;\n",
       "  /* Definition of color scheme for unfitted estimators */\n",
       "  --sklearn-color-unfitted-level-0: #fff5e6;\n",
       "  --sklearn-color-unfitted-level-1: #f6e4d2;\n",
       "  --sklearn-color-unfitted-level-2: #ffe0b3;\n",
       "  --sklearn-color-unfitted-level-3: chocolate;\n",
       "  /* Definition of color scheme for fitted estimators */\n",
       "  --sklearn-color-fitted-level-0: #f0f8ff;\n",
       "  --sklearn-color-fitted-level-1: #d4ebff;\n",
       "  --sklearn-color-fitted-level-2: #b3dbfd;\n",
       "  --sklearn-color-fitted-level-3: cornflowerblue;\n",
       "\n",
       "  /* Specific color for light theme */\n",
       "  --sklearn-color-text-on-default-background: var(--sg-text-color, var(--theme-code-foreground, var(--jp-content-font-color1, black)));\n",
       "  --sklearn-color-background: var(--sg-background-color, var(--theme-background, var(--jp-layout-color0, white)));\n",
       "  --sklearn-color-border-box: var(--sg-text-color, var(--theme-code-foreground, var(--jp-content-font-color1, black)));\n",
       "  --sklearn-color-icon: #696969;\n",
       "\n",
       "  @media (prefers-color-scheme: dark) {\n",
       "    /* Redefinition of color scheme for dark theme */\n",
       "    --sklearn-color-text-on-default-background: var(--sg-text-color, var(--theme-code-foreground, var(--jp-content-font-color1, white)));\n",
       "    --sklearn-color-background: var(--sg-background-color, var(--theme-background, var(--jp-layout-color0, #111)));\n",
       "    --sklearn-color-border-box: var(--sg-text-color, var(--theme-code-foreground, var(--jp-content-font-color1, white)));\n",
       "    --sklearn-color-icon: #878787;\n",
       "  }\n",
       "}\n",
       "\n",
       "#sk-container-id-5 {\n",
       "  color: var(--sklearn-color-text);\n",
       "}\n",
       "\n",
       "#sk-container-id-5 pre {\n",
       "  padding: 0;\n",
       "}\n",
       "\n",
       "#sk-container-id-5 input.sk-hidden--visually {\n",
       "  border: 0;\n",
       "  clip: rect(1px 1px 1px 1px);\n",
       "  clip: rect(1px, 1px, 1px, 1px);\n",
       "  height: 1px;\n",
       "  margin: -1px;\n",
       "  overflow: hidden;\n",
       "  padding: 0;\n",
       "  position: absolute;\n",
       "  width: 1px;\n",
       "}\n",
       "\n",
       "#sk-container-id-5 div.sk-dashed-wrapped {\n",
       "  border: 1px dashed var(--sklearn-color-line);\n",
       "  margin: 0 0.4em 0.5em 0.4em;\n",
       "  box-sizing: border-box;\n",
       "  padding-bottom: 0.4em;\n",
       "  background-color: var(--sklearn-color-background);\n",
       "}\n",
       "\n",
       "#sk-container-id-5 div.sk-container {\n",
       "  /* jupyter's `normalize.less` sets `[hidden] { display: none; }`\n",
       "     but bootstrap.min.css set `[hidden] { display: none !important; }`\n",
       "     so we also need the `!important` here to be able to override the\n",
       "     default hidden behavior on the sphinx rendered scikit-learn.org.\n",
       "     See: https://github.com/scikit-learn/scikit-learn/issues/21755 */\n",
       "  display: inline-block !important;\n",
       "  position: relative;\n",
       "}\n",
       "\n",
       "#sk-container-id-5 div.sk-text-repr-fallback {\n",
       "  display: none;\n",
       "}\n",
       "\n",
       "div.sk-parallel-item,\n",
       "div.sk-serial,\n",
       "div.sk-item {\n",
       "  /* draw centered vertical line to link estimators */\n",
       "  background-image: linear-gradient(var(--sklearn-color-text-on-default-background), var(--sklearn-color-text-on-default-background));\n",
       "  background-size: 2px 100%;\n",
       "  background-repeat: no-repeat;\n",
       "  background-position: center center;\n",
       "}\n",
       "\n",
       "/* Parallel-specific style estimator block */\n",
       "\n",
       "#sk-container-id-5 div.sk-parallel-item::after {\n",
       "  content: \"\";\n",
       "  width: 100%;\n",
       "  border-bottom: 2px solid var(--sklearn-color-text-on-default-background);\n",
       "  flex-grow: 1;\n",
       "}\n",
       "\n",
       "#sk-container-id-5 div.sk-parallel {\n",
       "  display: flex;\n",
       "  align-items: stretch;\n",
       "  justify-content: center;\n",
       "  background-color: var(--sklearn-color-background);\n",
       "  position: relative;\n",
       "}\n",
       "\n",
       "#sk-container-id-5 div.sk-parallel-item {\n",
       "  display: flex;\n",
       "  flex-direction: column;\n",
       "}\n",
       "\n",
       "#sk-container-id-5 div.sk-parallel-item:first-child::after {\n",
       "  align-self: flex-end;\n",
       "  width: 50%;\n",
       "}\n",
       "\n",
       "#sk-container-id-5 div.sk-parallel-item:last-child::after {\n",
       "  align-self: flex-start;\n",
       "  width: 50%;\n",
       "}\n",
       "\n",
       "#sk-container-id-5 div.sk-parallel-item:only-child::after {\n",
       "  width: 0;\n",
       "}\n",
       "\n",
       "/* Serial-specific style estimator block */\n",
       "\n",
       "#sk-container-id-5 div.sk-serial {\n",
       "  display: flex;\n",
       "  flex-direction: column;\n",
       "  align-items: center;\n",
       "  background-color: var(--sklearn-color-background);\n",
       "  padding-right: 1em;\n",
       "  padding-left: 1em;\n",
       "}\n",
       "\n",
       "\n",
       "/* Toggleable style: style used for estimator/Pipeline/ColumnTransformer box that is\n",
       "clickable and can be expanded/collapsed.\n",
       "- Pipeline and ColumnTransformer use this feature and define the default style\n",
       "- Estimators will overwrite some part of the style using the `sk-estimator` class\n",
       "*/\n",
       "\n",
       "/* Pipeline and ColumnTransformer style (default) */\n",
       "\n",
       "#sk-container-id-5 div.sk-toggleable {\n",
       "  /* Default theme specific background. It is overwritten whether we have a\n",
       "  specific estimator or a Pipeline/ColumnTransformer */\n",
       "  background-color: var(--sklearn-color-background);\n",
       "}\n",
       "\n",
       "/* Toggleable label */\n",
       "#sk-container-id-5 label.sk-toggleable__label {\n",
       "  cursor: pointer;\n",
       "  display: block;\n",
       "  width: 100%;\n",
       "  margin-bottom: 0;\n",
       "  padding: 0.5em;\n",
       "  box-sizing: border-box;\n",
       "  text-align: center;\n",
       "}\n",
       "\n",
       "#sk-container-id-5 label.sk-toggleable__label-arrow:before {\n",
       "  /* Arrow on the left of the label */\n",
       "  content: \"▸\";\n",
       "  float: left;\n",
       "  margin-right: 0.25em;\n",
       "  color: var(--sklearn-color-icon);\n",
       "}\n",
       "\n",
       "#sk-container-id-5 label.sk-toggleable__label-arrow:hover:before {\n",
       "  color: var(--sklearn-color-text);\n",
       "}\n",
       "\n",
       "/* Toggleable content - dropdown */\n",
       "\n",
       "#sk-container-id-5 div.sk-toggleable__content {\n",
       "  max-height: 0;\n",
       "  max-width: 0;\n",
       "  overflow: hidden;\n",
       "  text-align: left;\n",
       "  /* unfitted */\n",
       "  background-color: var(--sklearn-color-unfitted-level-0);\n",
       "}\n",
       "\n",
       "#sk-container-id-5 div.sk-toggleable__content.fitted {\n",
       "  /* fitted */\n",
       "  background-color: var(--sklearn-color-fitted-level-0);\n",
       "}\n",
       "\n",
       "#sk-container-id-5 div.sk-toggleable__content pre {\n",
       "  margin: 0.2em;\n",
       "  border-radius: 0.25em;\n",
       "  color: var(--sklearn-color-text);\n",
       "  /* unfitted */\n",
       "  background-color: var(--sklearn-color-unfitted-level-0);\n",
       "}\n",
       "\n",
       "#sk-container-id-5 div.sk-toggleable__content.fitted pre {\n",
       "  /* unfitted */\n",
       "  background-color: var(--sklearn-color-fitted-level-0);\n",
       "}\n",
       "\n",
       "#sk-container-id-5 input.sk-toggleable__control:checked~div.sk-toggleable__content {\n",
       "  /* Expand drop-down */\n",
       "  max-height: 200px;\n",
       "  max-width: 100%;\n",
       "  overflow: auto;\n",
       "}\n",
       "\n",
       "#sk-container-id-5 input.sk-toggleable__control:checked~label.sk-toggleable__label-arrow:before {\n",
       "  content: \"▾\";\n",
       "}\n",
       "\n",
       "/* Pipeline/ColumnTransformer-specific style */\n",
       "\n",
       "#sk-container-id-5 div.sk-label input.sk-toggleable__control:checked~label.sk-toggleable__label {\n",
       "  color: var(--sklearn-color-text);\n",
       "  background-color: var(--sklearn-color-unfitted-level-2);\n",
       "}\n",
       "\n",
       "#sk-container-id-5 div.sk-label.fitted input.sk-toggleable__control:checked~label.sk-toggleable__label {\n",
       "  background-color: var(--sklearn-color-fitted-level-2);\n",
       "}\n",
       "\n",
       "/* Estimator-specific style */\n",
       "\n",
       "/* Colorize estimator box */\n",
       "#sk-container-id-5 div.sk-estimator input.sk-toggleable__control:checked~label.sk-toggleable__label {\n",
       "  /* unfitted */\n",
       "  background-color: var(--sklearn-color-unfitted-level-2);\n",
       "}\n",
       "\n",
       "#sk-container-id-5 div.sk-estimator.fitted input.sk-toggleable__control:checked~label.sk-toggleable__label {\n",
       "  /* fitted */\n",
       "  background-color: var(--sklearn-color-fitted-level-2);\n",
       "}\n",
       "\n",
       "#sk-container-id-5 div.sk-label label.sk-toggleable__label,\n",
       "#sk-container-id-5 div.sk-label label {\n",
       "  /* The background is the default theme color */\n",
       "  color: var(--sklearn-color-text-on-default-background);\n",
       "}\n",
       "\n",
       "/* On hover, darken the color of the background */\n",
       "#sk-container-id-5 div.sk-label:hover label.sk-toggleable__label {\n",
       "  color: var(--sklearn-color-text);\n",
       "  background-color: var(--sklearn-color-unfitted-level-2);\n",
       "}\n",
       "\n",
       "/* Label box, darken color on hover, fitted */\n",
       "#sk-container-id-5 div.sk-label.fitted:hover label.sk-toggleable__label.fitted {\n",
       "  color: var(--sklearn-color-text);\n",
       "  background-color: var(--sklearn-color-fitted-level-2);\n",
       "}\n",
       "\n",
       "/* Estimator label */\n",
       "\n",
       "#sk-container-id-5 div.sk-label label {\n",
       "  font-family: monospace;\n",
       "  font-weight: bold;\n",
       "  display: inline-block;\n",
       "  line-height: 1.2em;\n",
       "}\n",
       "\n",
       "#sk-container-id-5 div.sk-label-container {\n",
       "  text-align: center;\n",
       "}\n",
       "\n",
       "/* Estimator-specific */\n",
       "#sk-container-id-5 div.sk-estimator {\n",
       "  font-family: monospace;\n",
       "  border: 1px dotted var(--sklearn-color-border-box);\n",
       "  border-radius: 0.25em;\n",
       "  box-sizing: border-box;\n",
       "  margin-bottom: 0.5em;\n",
       "  /* unfitted */\n",
       "  background-color: var(--sklearn-color-unfitted-level-0);\n",
       "}\n",
       "\n",
       "#sk-container-id-5 div.sk-estimator.fitted {\n",
       "  /* fitted */\n",
       "  background-color: var(--sklearn-color-fitted-level-0);\n",
       "}\n",
       "\n",
       "/* on hover */\n",
       "#sk-container-id-5 div.sk-estimator:hover {\n",
       "  /* unfitted */\n",
       "  background-color: var(--sklearn-color-unfitted-level-2);\n",
       "}\n",
       "\n",
       "#sk-container-id-5 div.sk-estimator.fitted:hover {\n",
       "  /* fitted */\n",
       "  background-color: var(--sklearn-color-fitted-level-2);\n",
       "}\n",
       "\n",
       "/* Specification for estimator info (e.g. \"i\" and \"?\") */\n",
       "\n",
       "/* Common style for \"i\" and \"?\" */\n",
       "\n",
       ".sk-estimator-doc-link,\n",
       "a:link.sk-estimator-doc-link,\n",
       "a:visited.sk-estimator-doc-link {\n",
       "  float: right;\n",
       "  font-size: smaller;\n",
       "  line-height: 1em;\n",
       "  font-family: monospace;\n",
       "  background-color: var(--sklearn-color-background);\n",
       "  border-radius: 1em;\n",
       "  height: 1em;\n",
       "  width: 1em;\n",
       "  text-decoration: none !important;\n",
       "  margin-left: 1ex;\n",
       "  /* unfitted */\n",
       "  border: var(--sklearn-color-unfitted-level-1) 1pt solid;\n",
       "  color: var(--sklearn-color-unfitted-level-1);\n",
       "}\n",
       "\n",
       ".sk-estimator-doc-link.fitted,\n",
       "a:link.sk-estimator-doc-link.fitted,\n",
       "a:visited.sk-estimator-doc-link.fitted {\n",
       "  /* fitted */\n",
       "  border: var(--sklearn-color-fitted-level-1) 1pt solid;\n",
       "  color: var(--sklearn-color-fitted-level-1);\n",
       "}\n",
       "\n",
       "/* On hover */\n",
       "div.sk-estimator:hover .sk-estimator-doc-link:hover,\n",
       ".sk-estimator-doc-link:hover,\n",
       "div.sk-label-container:hover .sk-estimator-doc-link:hover,\n",
       ".sk-estimator-doc-link:hover {\n",
       "  /* unfitted */\n",
       "  background-color: var(--sklearn-color-unfitted-level-3);\n",
       "  color: var(--sklearn-color-background);\n",
       "  text-decoration: none;\n",
       "}\n",
       "\n",
       "div.sk-estimator.fitted:hover .sk-estimator-doc-link.fitted:hover,\n",
       ".sk-estimator-doc-link.fitted:hover,\n",
       "div.sk-label-container:hover .sk-estimator-doc-link.fitted:hover,\n",
       ".sk-estimator-doc-link.fitted:hover {\n",
       "  /* fitted */\n",
       "  background-color: var(--sklearn-color-fitted-level-3);\n",
       "  color: var(--sklearn-color-background);\n",
       "  text-decoration: none;\n",
       "}\n",
       "\n",
       "/* Span, style for the box shown on hovering the info icon */\n",
       ".sk-estimator-doc-link span {\n",
       "  display: none;\n",
       "  z-index: 9999;\n",
       "  position: relative;\n",
       "  font-weight: normal;\n",
       "  right: .2ex;\n",
       "  padding: .5ex;\n",
       "  margin: .5ex;\n",
       "  width: min-content;\n",
       "  min-width: 20ex;\n",
       "  max-width: 50ex;\n",
       "  color: var(--sklearn-color-text);\n",
       "  box-shadow: 2pt 2pt 4pt #999;\n",
       "  /* unfitted */\n",
       "  background: var(--sklearn-color-unfitted-level-0);\n",
       "  border: .5pt solid var(--sklearn-color-unfitted-level-3);\n",
       "}\n",
       "\n",
       ".sk-estimator-doc-link.fitted span {\n",
       "  /* fitted */\n",
       "  background: var(--sklearn-color-fitted-level-0);\n",
       "  border: var(--sklearn-color-fitted-level-3);\n",
       "}\n",
       "\n",
       ".sk-estimator-doc-link:hover span {\n",
       "  display: block;\n",
       "}\n",
       "\n",
       "/* \"?\"-specific style due to the `<a>` HTML tag */\n",
       "\n",
       "#sk-container-id-5 a.estimator_doc_link {\n",
       "  float: right;\n",
       "  font-size: 1rem;\n",
       "  line-height: 1em;\n",
       "  font-family: monospace;\n",
       "  background-color: var(--sklearn-color-background);\n",
       "  border-radius: 1rem;\n",
       "  height: 1rem;\n",
       "  width: 1rem;\n",
       "  text-decoration: none;\n",
       "  /* unfitted */\n",
       "  color: var(--sklearn-color-unfitted-level-1);\n",
       "  border: var(--sklearn-color-unfitted-level-1) 1pt solid;\n",
       "}\n",
       "\n",
       "#sk-container-id-5 a.estimator_doc_link.fitted {\n",
       "  /* fitted */\n",
       "  border: var(--sklearn-color-fitted-level-1) 1pt solid;\n",
       "  color: var(--sklearn-color-fitted-level-1);\n",
       "}\n",
       "\n",
       "/* On hover */\n",
       "#sk-container-id-5 a.estimator_doc_link:hover {\n",
       "  /* unfitted */\n",
       "  background-color: var(--sklearn-color-unfitted-level-3);\n",
       "  color: var(--sklearn-color-background);\n",
       "  text-decoration: none;\n",
       "}\n",
       "\n",
       "#sk-container-id-5 a.estimator_doc_link.fitted:hover {\n",
       "  /* fitted */\n",
       "  background-color: var(--sklearn-color-fitted-level-3);\n",
       "}\n",
       "</style><div id=\"sk-container-id-5\" class=\"sk-top-container\"><div class=\"sk-text-repr-fallback\"><pre>SVR()</pre><b>In a Jupyter environment, please rerun this cell to show the HTML representation or trust the notebook. <br />On GitHub, the HTML representation is unable to render, please try loading this page with nbviewer.org.</b></div><div class=\"sk-container\" hidden><div class=\"sk-item\"><div class=\"sk-estimator fitted sk-toggleable\"><input class=\"sk-toggleable__control sk-hidden--visually\" id=\"sk-estimator-id-5\" type=\"checkbox\" checked><label for=\"sk-estimator-id-5\" class=\"sk-toggleable__label fitted sk-toggleable__label-arrow fitted\">&nbsp;&nbsp;SVR<a class=\"sk-estimator-doc-link fitted\" rel=\"noreferrer\" target=\"_blank\" href=\"https://scikit-learn.org/1.4/modules/generated/sklearn.svm.SVR.html\">?<span>Documentation for SVR</span></a><span class=\"sk-estimator-doc-link fitted\">i<span>Fitted</span></span></label><div class=\"sk-toggleable__content fitted\"><pre>SVR()</pre></div> </div></div></div></div>"
      ]
     },
     "execution_count": 138,
     "metadata": {},
     "output_type": "execute_result"
    }
   ],
   "execution_count": 138
  },
  {
   "metadata": {
    "ExecuteTime": {
     "end_time": "2024-05-08T09:44:53.839913Z",
     "start_time": "2024-05-08T09:44:53.833142Z"
    }
   },
   "cell_type": "code",
   "source": "y_pred = model.predict(X_test)",
   "outputs": [],
   "execution_count": 139
  },
  {
   "cell_type": "code",
   "metadata": {
    "colab": {
     "base_uri": "https://localhost:8080/"
    },
    "executionInfo": {
     "elapsed": 491,
     "status": "ok",
     "timestamp": 1629905132028,
     "user": {
      "displayName": "Sahil Rahman",
      "photoUrl": "https://lh3.googleusercontent.com/a-/AOh14GiJ8lzvw0EAvZyy3OveF6J53a3ecWuQmgHRsF6n6D4=s64",
      "userId": "17212050139887820689"
     },
     "user_tz": -330
    },
    "id": "xb2lPOUiWp8K",
    "outputId": "c1219016-abb5-4d1f-998b-4057e8a1ca39",
    "ExecuteTime": {
     "end_time": "2024-05-08T09:44:55.019139Z",
     "start_time": "2024-05-08T09:44:55.013324Z"
    }
   },
   "source": [
    "y_pred"
   ],
   "outputs": [
    {
     "data": {
      "text/plain": [
       "array([-0.76947139,  0.62495329, -0.36605346, -1.26283815,  0.57381597,\n",
       "       -0.1185472 , -0.75664008, -0.40417142, -0.99623181,  0.95262628,\n",
       "        1.07387222,  0.35030893, -0.56328734, -0.52093818,  0.07543078,\n",
       "        1.22551728,  1.33758452,  0.67596748, -0.56967027, -0.64786557])"
      ]
     },
     "execution_count": 140,
     "metadata": {},
     "output_type": "execute_result"
    }
   ],
   "execution_count": 140
  },
  {
   "cell_type": "code",
   "metadata": {
    "executionInfo": {
     "elapsed": 412,
     "status": "ok",
     "timestamp": 1629905258323,
     "user": {
      "displayName": "Sahil Rahman",
      "photoUrl": "https://lh3.googleusercontent.com/a-/AOh14GiJ8lzvw0EAvZyy3OveF6J53a3ecWuQmgHRsF6n6D4=s64",
      "userId": "17212050139887820689"
     },
     "user_tz": -330
    },
    "id": "zlrlXMS_Wp_e",
    "ExecuteTime": {
     "end_time": "2024-05-08T09:45:09.100900Z",
     "start_time": "2024-05-08T09:45:09.097310Z"
    }
   },
   "source": "y_pred = stanscale.inverse_transform(y_pred.reshape(-1,1))",
   "outputs": [],
   "execution_count": 142
  },
  {
   "cell_type": "code",
   "metadata": {
    "colab": {
     "base_uri": "https://localhost:8080/"
    },
    "executionInfo": {
     "elapsed": 680,
     "status": "ok",
     "timestamp": 1629905263190,
     "user": {
      "displayName": "Sahil Rahman",
      "photoUrl": "https://lh3.googleusercontent.com/a-/AOh14GiJ8lzvw0EAvZyy3OveF6J53a3ecWuQmgHRsF6n6D4=s64",
      "userId": "17212050139887820689"
     },
     "user_tz": -330
    },
    "id": "F9QQ7-D9WqCR",
    "outputId": "5e498f1c-ed0c-4749-f18f-2754a8661bd2",
    "ExecuteTime": {
     "end_time": "2024-05-08T09:45:10.583493Z",
     "start_time": "2024-05-08T09:45:10.579273Z"
    }
   },
   "source": "y_pred",
   "outputs": [
    {
     "data": {
      "text/plain": [
       "array([[60.39764577],\n",
       "       [81.48677868],\n",
       "       [66.49889641],\n",
       "       [52.93601862],\n",
       "       [80.71338315],\n",
       "       [70.24215505],\n",
       "       [60.59170512],\n",
       "       [65.92240434],\n",
       "       [56.96814488],\n",
       "       [86.44247075],\n",
       "       [88.27618157],\n",
       "       [77.33308614],\n",
       "       [63.51595177],\n",
       "       [64.15643611],\n",
       "       [73.17585776],\n",
       "       [90.56964555],\n",
       "       [92.26453877],\n",
       "       [82.25831189],\n",
       "       [63.41941707],\n",
       "       [62.23679956]])"
      ]
     },
     "execution_count": 143,
     "metadata": {},
     "output_type": "execute_result"
    }
   ],
   "execution_count": 143
  },
  {
   "cell_type": "code",
   "metadata": {
    "executionInfo": {
     "elapsed": 703,
     "status": "ok",
     "timestamp": 1629905281444,
     "user": {
      "displayName": "Sahil Rahman",
      "photoUrl": "https://lh3.googleusercontent.com/a-/AOh14GiJ8lzvw0EAvZyy3OveF6J53a3ecWuQmgHRsF6n6D4=s64",
      "userId": "17212050139887820689"
     },
     "user_tz": -330
    },
    "id": "TwLab2eyWqFS",
    "ExecuteTime": {
     "end_time": "2024-05-08T09:45:11.777015Z",
     "start_time": "2024-05-08T09:45:11.768453Z"
    }
   },
   "source": [
    "y_test = stanscale.inverse_transform(y_test)"
   ],
   "outputs": [],
   "execution_count": 144
  },
  {
   "cell_type": "code",
   "metadata": {
    "colab": {
     "base_uri": "https://localhost:8080/"
    },
    "executionInfo": {
     "elapsed": 590,
     "status": "ok",
     "timestamp": 1629905286453,
     "user": {
      "displayName": "Sahil Rahman",
      "photoUrl": "https://lh3.googleusercontent.com/a-/AOh14GiJ8lzvw0EAvZyy3OveF6J53a3ecWuQmgHRsF6n6D4=s64",
      "userId": "17212050139887820689"
     },
     "user_tz": -330
    },
    "id": "fY7awkctWqIZ",
    "outputId": "166828fe-4702-4ebb-efa3-d70c2f8cb396",
    "ExecuteTime": {
     "end_time": "2024-05-08T09:45:12.743085Z",
     "start_time": "2024-05-08T09:45:12.736986Z"
    }
   },
   "source": [
    "y_test"
   ],
   "outputs": [
    {
     "data": {
      "text/plain": [
       "array([[ 932.24006838],\n",
       "       [1303.66749525],\n",
       "       [1001.01593103],\n",
       "       [ 839.11280341],\n",
       "       [1365.09887689],\n",
       "       [1154.09882621],\n",
       "       [ 750.29826253],\n",
       "       [ 957.83894796],\n",
       "       [1011.60055583],\n",
       "       [1134.51795207],\n",
       "       [1018.22197082],\n",
       "       [1112.22021185],\n",
       "       [1004.93797632],\n",
       "       [1059.3363501 ],\n",
       "       [1305.19196303],\n",
       "       [1497.56958725],\n",
       "       [1506.59506881],\n",
       "       [1515.68727776],\n",
       "       [ 969.77208747],\n",
       "       [ 889.99663331]])"
      ]
     },
     "execution_count": 145,
     "metadata": {},
     "output_type": "execute_result"
    }
   ],
   "execution_count": 145
  },
  {
   "cell_type": "code",
   "metadata": {
    "colab": {
     "base_uri": "https://localhost:8080/",
     "height": 312
    },
    "executionInfo": {
     "elapsed": 470,
     "status": "ok",
     "timestamp": 1629905419082,
     "user": {
      "displayName": "Sahil Rahman",
      "photoUrl": "https://lh3.googleusercontent.com/a-/AOh14GiJ8lzvw0EAvZyy3OveF6J53a3ecWuQmgHRsF6n6D4=s64",
      "userId": "17212050139887820689"
     },
     "user_tz": -330
    },
    "id": "pEYVr8wDWqLC",
    "outputId": "fd61b013-5f78-4341-9259-20cf7c250db0",
    "ExecuteTime": {
     "end_time": "2024-05-08T09:45:14.188354Z",
     "start_time": "2024-05-08T09:45:13.821367Z"
    }
   },
   "source": [
    "plt.scatter(y_test,y_pred)\n",
    "plt.xlabel('Actual Marks')\n",
    "plt.ylabel('Predicted Marks')\n",
    "plt.title('Actual Marks V/s Predicted Marks')"
   ],
   "outputs": [
    {
     "data": {
      "text/plain": [
       "Text(0.5, 1.0, 'Actual Marks V/s Predicted Marks')"
      ]
     },
     "execution_count": 146,
     "metadata": {},
     "output_type": "execute_result"
    },
    {
     "data": {
      "text/plain": [
       "<Figure size 640x480 with 1 Axes>"
      ],
      "image/png": "[encoded data removed]"
     },
     "metadata": {},
     "output_type": "display_data"
    }
   ],
   "execution_count": 146
  },
  {
   "cell_type": "code",
   "metadata": {
    "colab": {
     "base_uri": "https://localhost:8080/"
    },
    "executionInfo": {
     "elapsed": 665,
     "status": "ok",
     "timestamp": 1629905562042,
     "user": {
      "displayName": "Sahil Rahman",
      "photoUrl": "https://lh3.googleusercontent.com/a-/AOh14GiJ8lzvw0EAvZyy3OveF6J53a3ecWuQmgHRsF6n6D4=s64",
      "userId": "17212050139887820689"
     },
     "user_tz": -330
    },
    "id": "RhvRGnLWWqN_",
    "outputId": "3f37ffe3-1d14-4986-e75d-102db4c8aa74",
    "ExecuteTime": {
     "end_time": "2024-05-08T09:45:51.363799Z",
     "start_time": "2024-05-08T09:45:51.292919Z"
    }
   },
   "source": "stanscale.inverse_transform(model.predict([[5]]))",
   "outputs": [
    {
     "ename": "ValueError",
     "evalue": "Expected 2D array, got 1D array instead:\narray=[-0.03507798].\nReshape your data either using array.reshape(-1, 1) if your data has a single feature or array.reshape(1, -1) if it contains a single sample.",
     "output_type": "error",
     "traceback": [
      "\u001B[0;31m---------------------------------------------------------------------------\u001B[0m",
      "\u001B[0;31mValueError\u001B[0m                                Traceback (most recent call last)",
      "Cell \u001B[0;32mIn[148], line 1\u001B[0m\n\u001B[0;32m----> 1\u001B[0m \u001B[43mstanscale\u001B[49m\u001B[38;5;241;43m.\u001B[39;49m\u001B[43minverse_transform\u001B[49m\u001B[43m(\u001B[49m\u001B[43mmodel\u001B[49m\u001B[38;5;241;43m.\u001B[39;49m\u001B[43mpredict\u001B[49m\u001B[43m(\u001B[49m\u001B[43m[\u001B[49m\u001B[43m[\u001B[49m\u001B[38;5;241;43m5\u001B[39;49m\u001B[43m]\u001B[49m\u001B[43m]\u001B[49m\u001B[43m)\u001B[49m\u001B[43m)\u001B[49m\n",
      "File \u001B[0;32m~/DataspellProjects/Data-Scientist-Industrial-Training/venv/lib/python3.12/site-packages/sklearn/preprocessing/_data.py:1085\u001B[0m, in \u001B[0;36mStandardScaler.inverse_transform\u001B[0;34m(self, X, copy)\u001B[0m\n\u001B[1;32m   1082\u001B[0m check_is_fitted(\u001B[38;5;28mself\u001B[39m)\n\u001B[1;32m   1084\u001B[0m copy \u001B[38;5;241m=\u001B[39m copy \u001B[38;5;28;01mif\u001B[39;00m copy \u001B[38;5;129;01mis\u001B[39;00m \u001B[38;5;129;01mnot\u001B[39;00m \u001B[38;5;28;01mNone\u001B[39;00m \u001B[38;5;28;01melse\u001B[39;00m \u001B[38;5;28mself\u001B[39m\u001B[38;5;241m.\u001B[39mcopy\n\u001B[0;32m-> 1085\u001B[0m X \u001B[38;5;241m=\u001B[39m \u001B[43mcheck_array\u001B[49m\u001B[43m(\u001B[49m\n\u001B[1;32m   1086\u001B[0m \u001B[43m    \u001B[49m\u001B[43mX\u001B[49m\u001B[43m,\u001B[49m\n\u001B[1;32m   1087\u001B[0m \u001B[43m    \u001B[49m\u001B[43maccept_sparse\u001B[49m\u001B[38;5;241;43m=\u001B[39;49m\u001B[38;5;124;43m\"\u001B[39;49m\u001B[38;5;124;43mcsr\u001B[39;49m\u001B[38;5;124;43m\"\u001B[39;49m\u001B[43m,\u001B[49m\n\u001B[1;32m   1088\u001B[0m \u001B[43m    \u001B[49m\u001B[43mcopy\u001B[49m\u001B[38;5;241;43m=\u001B[39;49m\u001B[43mcopy\u001B[49m\u001B[43m,\u001B[49m\n\u001B[1;32m   1089\u001B[0m \u001B[43m    \u001B[49m\u001B[43mdtype\u001B[49m\u001B[38;5;241;43m=\u001B[39;49m\u001B[43mFLOAT_DTYPES\u001B[49m\u001B[43m,\u001B[49m\n\u001B[1;32m   1090\u001B[0m \u001B[43m    \u001B[49m\u001B[43mforce_all_finite\u001B[49m\u001B[38;5;241;43m=\u001B[39;49m\u001B[38;5;124;43m\"\u001B[39;49m\u001B[38;5;124;43mallow-nan\u001B[39;49m\u001B[38;5;124;43m\"\u001B[39;49m\u001B[43m,\u001B[49m\n\u001B[1;32m   1091\u001B[0m \u001B[43m\u001B[49m\u001B[43m)\u001B[49m\n\u001B[1;32m   1093\u001B[0m \u001B[38;5;28;01mif\u001B[39;00m sparse\u001B[38;5;241m.\u001B[39missparse(X):\n\u001B[1;32m   1094\u001B[0m     \u001B[38;5;28;01mif\u001B[39;00m \u001B[38;5;28mself\u001B[39m\u001B[38;5;241m.\u001B[39mwith_mean:\n",
      "File \u001B[0;32m~/DataspellProjects/Data-Scientist-Industrial-Training/venv/lib/python3.12/site-packages/sklearn/utils/validation.py:1035\u001B[0m, in \u001B[0;36mcheck_array\u001B[0;34m(array, accept_sparse, accept_large_sparse, dtype, order, copy, force_all_finite, ensure_2d, allow_nd, ensure_min_samples, ensure_min_features, estimator, input_name)\u001B[0m\n\u001B[1;32m   1028\u001B[0m         \u001B[38;5;28;01melse\u001B[39;00m:\n\u001B[1;32m   1029\u001B[0m             msg \u001B[38;5;241m=\u001B[39m (\n\u001B[1;32m   1030\u001B[0m                 \u001B[38;5;124mf\u001B[39m\u001B[38;5;124m\"\u001B[39m\u001B[38;5;124mExpected 2D array, got 1D array instead:\u001B[39m\u001B[38;5;130;01m\\n\u001B[39;00m\u001B[38;5;124marray=\u001B[39m\u001B[38;5;132;01m{\u001B[39;00marray\u001B[38;5;132;01m}\u001B[39;00m\u001B[38;5;124m.\u001B[39m\u001B[38;5;130;01m\\n\u001B[39;00m\u001B[38;5;124m\"\u001B[39m\n\u001B[1;32m   1031\u001B[0m                 \u001B[38;5;124m\"\u001B[39m\u001B[38;5;124mReshape your data either using array.reshape(-1, 1) if \u001B[39m\u001B[38;5;124m\"\u001B[39m\n\u001B[1;32m   1032\u001B[0m                 \u001B[38;5;124m\"\u001B[39m\u001B[38;5;124myour data has a single feature or array.reshape(1, -1) \u001B[39m\u001B[38;5;124m\"\u001B[39m\n\u001B[1;32m   1033\u001B[0m                 \u001B[38;5;124m\"\u001B[39m\u001B[38;5;124mif it contains a single sample.\u001B[39m\u001B[38;5;124m\"\u001B[39m\n\u001B[1;32m   1034\u001B[0m             )\n\u001B[0;32m-> 1035\u001B[0m         \u001B[38;5;28;01mraise\u001B[39;00m \u001B[38;5;167;01mValueError\u001B[39;00m(msg)\n\u001B[1;32m   1037\u001B[0m \u001B[38;5;28;01mif\u001B[39;00m dtype_numeric \u001B[38;5;129;01mand\u001B[39;00m \u001B[38;5;28mhasattr\u001B[39m(array\u001B[38;5;241m.\u001B[39mdtype, \u001B[38;5;124m\"\u001B[39m\u001B[38;5;124mkind\u001B[39m\u001B[38;5;124m\"\u001B[39m) \u001B[38;5;129;01mand\u001B[39;00m array\u001B[38;5;241m.\u001B[39mdtype\u001B[38;5;241m.\u001B[39mkind \u001B[38;5;129;01min\u001B[39;00m \u001B[38;5;124m\"\u001B[39m\u001B[38;5;124mUSV\u001B[39m\u001B[38;5;124m\"\u001B[39m:\n\u001B[1;32m   1038\u001B[0m     \u001B[38;5;28;01mraise\u001B[39;00m \u001B[38;5;167;01mValueError\u001B[39;00m(\n\u001B[1;32m   1039\u001B[0m         \u001B[38;5;124m\"\u001B[39m\u001B[38;5;124mdtype=\u001B[39m\u001B[38;5;124m'\u001B[39m\u001B[38;5;124mnumeric\u001B[39m\u001B[38;5;124m'\u001B[39m\u001B[38;5;124m is not compatible with arrays of bytes/strings.\u001B[39m\u001B[38;5;124m\"\u001B[39m\n\u001B[1;32m   1040\u001B[0m         \u001B[38;5;124m\"\u001B[39m\u001B[38;5;124mConvert your data to numeric values explicitly instead.\u001B[39m\u001B[38;5;124m\"\u001B[39m\n\u001B[1;32m   1041\u001B[0m     )\n",
      "\u001B[0;31mValueError\u001B[0m: Expected 2D array, got 1D array instead:\narray=[-0.03507798].\nReshape your data either using array.reshape(-1, 1) if your data has a single feature or array.reshape(1, -1) if it contains a single sample."
     ]
    }
   ],
   "execution_count": 148
  },
  {
   "cell_type": "code",
   "metadata": {
    "executionInfo": {
     "elapsed": 685,
     "status": "ok",
     "timestamp": 1629905592358,
     "user": {
      "displayName": "Sahil Rahman",
      "photoUrl": "https://lh3.googleusercontent.com/a-/AOh14GiJ8lzvw0EAvZyy3OveF6J53a3ecWuQmgHRsF6n6D4=s64",
      "userId": "17212050139887820689"
     },
     "user_tz": -330
    },
    "id": "HmZSIPmYWqRV",
    "ExecuteTime": {
     "end_time": "2024-05-08T09:45:52.431756Z",
     "start_time": "2024-05-08T09:45:52.427201Z"
    }
   },
   "source": [
    "from sklearn.metrics import r2_score, mean_squared_error, mean_absolute_error"
   ],
   "outputs": [],
   "execution_count": 149
  },
  {
   "cell_type": "code",
   "metadata": {
    "colab": {
     "base_uri": "https://localhost:8080/"
    },
    "executionInfo": {
     "elapsed": 690,
     "status": "ok",
     "timestamp": 1629905621943,
     "user": {
      "displayName": "Sahil Rahman",
      "photoUrl": "https://lh3.googleusercontent.com/a-/AOh14GiJ8lzvw0EAvZyy3OveF6J53a3ecWuQmgHRsF6n6D4=s64",
      "userId": "17212050139887820689"
     },
     "user_tz": -330
    },
    "id": "TuODJlMBWqT0",
    "outputId": "62e143fc-c6a0-4d0b-b0bd-8ffeadae8cb9",
    "ExecuteTime": {
     "end_time": "2024-05-08T09:45:53.480143Z",
     "start_time": "2024-05-08T09:45:53.459168Z"
    }
   },
   "source": [
    "model.score(X_test,y_test)"
   ],
   "outputs": [
    {
     "data": {
      "text/plain": [
       "-25.33822795261546"
      ]
     },
     "execution_count": 150,
     "metadata": {},
     "output_type": "execute_result"
    }
   ],
   "execution_count": 150
  },
  {
   "cell_type": "code",
   "metadata": {
    "colab": {
     "base_uri": "https://localhost:8080/"
    },
    "executionInfo": {
     "elapsed": 516,
     "status": "ok",
     "timestamp": 1629905686021,
     "user": {
      "displayName": "Sahil Rahman",
      "photoUrl": "https://lh3.googleusercontent.com/a-/AOh14GiJ8lzvw0EAvZyy3OveF6J53a3ecWuQmgHRsF6n6D4=s64",
      "userId": "17212050139887820689"
     },
     "user_tz": -330
    },
    "id": "H-UUh9hqWqXD",
    "outputId": "e1984afb-d324-4729-9563-22c5d1f6fa9b",
    "ExecuteTime": {
     "end_time": "2024-05-08T09:45:54.448961Z",
     "start_time": "2024-05-08T09:45:54.444464Z"
    }
   },
   "source": [
    "r2_score(y_test, y_pred)"
   ],
   "outputs": [
    {
     "data": {
      "text/plain": [
       "-22.099949752331792"
      ]
     },
     "execution_count": 151,
     "metadata": {},
     "output_type": "execute_result"
    }
   ],
   "execution_count": 151
  },
  {
   "cell_type": "code",
   "metadata": {
    "colab": {
     "base_uri": "https://localhost:8080/"
    },
    "executionInfo": {
     "elapsed": 416,
     "status": "ok",
     "timestamp": 1629905737890,
     "user": {
      "displayName": "Sahil Rahman",
      "photoUrl": "https://lh3.googleusercontent.com/a-/AOh14GiJ8lzvw0EAvZyy3OveF6J53a3ecWuQmgHRsF6n6D4=s64",
      "userId": "17212050139887820689"
     },
     "user_tz": -330
    },
    "id": "tnqoHOFqWqbE",
    "outputId": "186864ae-591a-4c66-e797-9aa021714dbc",
    "ExecuteTime": {
     "end_time": "2024-05-08T09:45:55.589703Z",
     "start_time": "2024-05-08T09:45:55.579780Z"
    }
   },
   "source": [
    "mean_squared_error(y_test, y_pred)"
   ],
   "outputs": [
    {
     "data": {
      "text/plain": [
       "1136114.5163273653"
      ]
     },
     "execution_count": 152,
     "metadata": {},
     "output_type": "execute_result"
    }
   ],
   "execution_count": 152
  },
  {
   "cell_type": "code",
   "metadata": {
    "colab": {
     "base_uri": "https://localhost:8080/"
    },
    "executionInfo": {
     "elapsed": 571,
     "status": "ok",
     "timestamp": 1629905743235,
     "user": {
      "displayName": "Sahil Rahman",
      "photoUrl": "https://lh3.googleusercontent.com/a-/AOh14GiJ8lzvw0EAvZyy3OveF6J53a3ecWuQmgHRsF6n6D4=s64",
      "userId": "17212050139887820689"
     },
     "user_tz": -330
    },
    "id": "uwUdx0tqWqdA",
    "outputId": "f36f0ec4-5202-420f-e639-07f69e3f36d3",
    "ExecuteTime": {
     "end_time": "2024-05-08T09:45:56.686157Z",
     "start_time": "2024-05-08T09:45:56.680371Z"
    }
   },
   "source": [
    "mean_absolute_error(y_test, y_pred)"
   ],
   "outputs": [
    {
     "data": {
      "text/plain": [
       "1044.480650866601"
      ]
     },
     "execution_count": 153,
     "metadata": {},
     "output_type": "execute_result"
    }
   ],
   "execution_count": 153
  }
 ],
 "metadata": {
  "colab": {
   "authorship_tag": "ABX9TyPWkHVhOshSxOdSH+7oEF9E",
   "collapsed_sections": [],
   "name": "SVM - SVR.ipynb",
   "provenance": []
  },
  "kernelspec": {
   "display_name": "Python 3 (ipykernel)",
   "name": "python3",
   "language": "python"
  },
  "language_info": {
   "codemirror_mode": {
    "name": "ipython",
    "version": 3
   },
   "file_extension": ".py",
   "mimetype": "text/x-python",
   "name": "python",
   "nbconvert_exporter": "python",
   "pygments_lexer": "ipython3",
   "version": "3.12.2"
  }
 },
 "nbformat": 4,
 "nbformat_minor": 0
}
