{
 "cells": [
  {
   "metadata": {},
   "cell_type": "markdown",
   "source": "# Importing the Libraroes",
   "id": "b20ec26dbfd1a6f5"
  },
  {
   "metadata": {},
   "cell_type": "code",
   "source": [
    "import pandas as pd\n",
    "import numpy as np\n",
    "import matplotlib.pyplot as plt\n",
    "import seaborn as sns\n",
    "from sklearn.model_selection import train_test_split\n",
    "from sklearn.preprocessing import StandardScaler\n",
    "from sklearn.ensemble import RandomForestRegressor\n",
    "from sklearn.metrics import mean_squared_error, mean_absolute_error, r2_score"
   ],
   "id": "55b1b969c0d21278",
   "outputs": [],
   "execution_count": null
  },
  {
   "metadata": {},
   "cell_type": "code",
   "source": "df = pd.read_csv('https://raw.githubusercontent.com/mk-gurucharan/Regression/master/IceCreamData.csv')",
   "id": "a3e248c045e93d3a",
   "outputs": [],
   "execution_count": null
  },
  {
   "metadata": {},
   "cell_type": "code",
   "source": "df.head()",
   "id": "6e767aea432785c3",
   "outputs": [],
   "execution_count": null
  },
  {
   "metadata": {},
   "cell_type": "code",
   "source": "df.info()",
   "id": "58ea66d98e5a421c",
   "outputs": [],
   "execution_count": null
  },
  {
   "metadata": {},
   "cell_type": "code",
   "source": "df.shape",
   "id": "16ae1068960a5772",
   "outputs": [],
   "execution_count": null
  },
  {
   "metadata": {},
   "cell_type": "code",
   "source": "df.size",
   "id": "81a540ff79ef4cc8",
   "outputs": [],
   "execution_count": null
  },
  {
   "metadata": {},
   "cell_type": "markdown",
   "source": "# Preparing data for model",
   "id": "1053013136d654ca"
  },
  {
   "metadata": {},
   "cell_type": "code",
   "source": [
    "x = np.array(df.Temperature)\n",
    "y = np.array(df.Revenue)"
   ],
   "id": "b329721b152bc6df",
   "outputs": [],
   "execution_count": null
  },
  {
   "metadata": {},
   "cell_type": "markdown",
   "source": "splitting the dataset",
   "id": "dc8a20e472f8eea5"
  },
  {
   "metadata": {},
   "cell_type": "code",
   "source": "x_train, x_test, y_train, y_test = train_test_split(x, y, test_size=0.2, random_state=0)",
   "id": "b1ebd12c5666d009",
   "outputs": [],
   "execution_count": null
  },
  {
   "metadata": {},
   "cell_type": "code",
   "source": "model = RandomForestRegressor(n_estimators=100, max_depth=5, random_state=0, bootstrap=True)",
   "id": "8ad152e74a9f4c6f",
   "outputs": [],
   "execution_count": null
  },
  {
   "metadata": {},
   "cell_type": "code",
   "source": "model.fit(x_train.reshape(-1,1), y_train.ravel())",
   "id": "b6e6a6384d72091d",
   "outputs": [],
   "execution_count": null
  },
  {
   "metadata": {},
   "cell_type": "code",
   "source": "y_pred = model.predict(x_test.reshape(-1,1))",
   "id": "2db9921f50b7a998",
   "outputs": [],
   "execution_count": null
  },
  {
   "metadata": {},
   "cell_type": "code",
   "source": [
    "pred = pd.DataFrame({'Actual': y_test.reshape(-1), 'Predicted': y_pred.reshape(-1)})\n",
    "pred.head()"
   ],
   "id": "778c09b85d804ebe",
   "outputs": [],
   "execution_count": null
  },
  {
   "metadata": {},
   "cell_type": "code",
   "source": [
    "plt.scatter(x_test, y_test, color='blue')\n",
    "plt.scatter(x_test, y_pred, color='red')\n",
    "plt.xlabel('Temperature (K)')\n",
    "plt.ylabel('Revenue')"
   ],
   "id": "c757aab96a57dff4",
   "outputs": [],
   "execution_count": null
  },
  {
   "metadata": {},
   "cell_type": "code",
   "source": "sns.heatmap(pred.corr(), annot=True)",
   "id": "1cd8981884754381",
   "outputs": [],
   "execution_count": null
  },
  {
   "metadata": {},
   "cell_type": "code",
   "source": "sns.boxplot(df.corr())",
   "id": "4bdefb2b784922b",
   "outputs": [],
   "execution_count": null
  },
  {
   "metadata": {},
   "cell_type": "code",
   "source": "model.score(x_test.reshape(-1,1), y_test.ravel())",
   "id": "327c32b23dbabc40",
   "outputs": [],
   "execution_count": null
  },
  {
   "metadata": {},
   "cell_type": "code",
   "source": "r2_score(y_test, y_pred)",
   "id": "aee99f02a69e6bc3",
   "outputs": [],
   "execution_count": null
  },
  {
   "metadata": {},
   "cell_type": "markdown",
   "source": "# car prize prediction",
   "id": "64fa15883834ba9e"
  },
  {
   "metadata": {},
   "cell_type": "code",
   "source": "car_df = pd.read_csv('https://raw.githubusercontent.com/sahilrahman12/Price_prediction_of_used_Cars_-Predictive_Analysis-/master/cardekho_data.csv')",
   "id": "c73d6ad894ad04f5",
   "outputs": [],
   "execution_count": null
  },
  {
   "metadata": {},
   "cell_type": "code",
   "source": "car_df.head()",
   "id": "b7ad298a8886700f",
   "outputs": [],
   "execution_count": null
  },
  {
   "metadata": {},
   "cell_type": "code",
   "source": "car_df.shape",
   "id": "d879c054395dfa88",
   "outputs": [],
   "execution_count": null
  },
  {
   "metadata": {},
   "cell_type": "code",
   "source": "car_df.info()",
   "id": "c2c772ee8a8c0081",
   "outputs": [],
   "execution_count": null
  },
  {
   "metadata": {},
   "cell_type": "code",
   "source": [
    "car_df['no_of_years'] = 2024-car_df['Year']\n",
    "car_df.head()   "
   ],
   "id": "e160ca988bc76696",
   "outputs": [],
   "execution_count": null
  },
  {
   "metadata": {},
   "cell_type": "code",
   "source": [
    "car_df.drop(['Year', 'Car_Name'], axis=1, inplace=True)\n",
    "car_df.head()"
   ],
   "id": "86881b5dcd30a954",
   "outputs": [],
   "execution_count": null
  },
  {
   "metadata": {},
   "cell_type": "code",
   "source": [
    "new_df = pd.get_dummies(car_df)\n",
    "new_df.head()"
   ],
   "id": "8ed9d6a9eb253080",
   "outputs": [],
   "execution_count": null
  },
  {
   "metadata": {},
   "cell_type": "code",
   "source": [
    "new_df.Fuel_Type_CNG.astype(int)\n",
    "new_df.Fuel_Type_Diesel.astype(int)\n",
    "new_df.Fuel_Type_Petrol.astype(int)\n",
    "new_df.Transmission_Automatic.astype(int)\n",
    "new_df.Transmission_Manual.astype(int)\n",
    "new_df.Seller_Type_Dealer.astype(int)\n",
    "new_df.Seller_Type_Individual.astype(int)"
   ],
   "id": "e6182356cd1d9970",
   "outputs": [],
   "execution_count": null
  },
  {
   "metadata": {},
   "cell_type": "code",
   "source": [
    "new_df.drop(['Fuel_Type_CNG', 'Seller_Type_Dealer', 'Transmission_Automatic'], axis=1, inplace=True)\n",
    "new_df.head()"
   ],
   "id": "d999374954c5a71f",
   "outputs": [],
   "execution_count": null
  },
  {
   "metadata": {},
   "cell_type": "code",
   "source": "sns.pairplot(new_df)",
   "id": "d67b86489e774073",
   "outputs": [],
   "execution_count": null
  },
  {
   "metadata": {},
   "cell_type": "code",
   "source": "sns.heatmap(new_df.corr(), annot=True)",
   "id": "1537294a52718bc0",
   "outputs": [],
   "execution_count": null
  },
  {
   "metadata": {},
   "cell_type": "code",
   "source": [
    "x = new_df.iloc[:, 1:]\n",
    "y = new_df.iloc[:, 0]"
   ],
   "id": "7b9eccf2e23d45d2",
   "outputs": [],
   "execution_count": null
  },
  {
   "metadata": {},
   "cell_type": "markdown",
   "source": "# Feature Selection (feature importance)",
   "id": "c0885a5f1287501b"
  },
  {
   "metadata": {},
   "cell_type": "code",
   "source": "from sklearn.ensemble import ExtraTreesRegressor",
   "id": "6d7453cbc81b40e9",
   "outputs": [],
   "execution_count": null
  },
  {
   "metadata": {},
   "cell_type": "code",
   "source": [
    "model = ExtraTreesRegressor(n_estimators=100, random_state=0)\n",
    "model.fit(x, y)"
   ],
   "id": "b817cb7f5e32771e",
   "outputs": [],
   "execution_count": null
  },
  {
   "metadata": {},
   "cell_type": "code",
   "source": "model.feature_importances_",
   "id": "73294e4d6657d711",
   "outputs": [],
   "execution_count": null
  },
  {
   "metadata": {},
   "cell_type": "code",
   "source": [
    "imp = pd.Series(model.feature_importances_, index=x.columns)\n",
    "imp.nlargest(10).plot(kind='barh')"
   ],
   "id": "df6776d67b32afa8",
   "outputs": [],
   "execution_count": null
  },
  {
   "metadata": {},
   "cell_type": "markdown",
   "source": "# splitting the data",
   "id": "5ac849764982cf85"
  },
  {
   "metadata": {},
   "cell_type": "code",
   "source": "x_train, x_test, y_train, y_test = train_test_split(x, y, test_size=0.2, random_state=0)",
   "id": "9cf738de3d0cb595",
   "outputs": [],
   "execution_count": null
  },
  {
   "metadata": {},
   "cell_type": "code",
   "source": "x_test",
   "id": "195ea7b58f225416",
   "outputs": [],
   "execution_count": null
  },
  {
   "metadata": {},
   "cell_type": "code",
   "source": "regression = RandomForestRegressor()",
   "id": "8eee94f95340af9b",
   "outputs": [],
   "execution_count": null
  },
  {
   "metadata": {},
   "cell_type": "markdown",
   "source": "# Hyper Parameter Tuning",
   "id": "b9bf1a007f4020fe"
  },
  {
   "metadata": {},
   "cell_type": "code",
   "source": [
    "n_estimators = [int(x) for x in np.linspace(start=100, stop=1200, num=12)]\n",
    "max_features = ['auto', 'sqrt']\n",
    "max_depth = [int(x) for x in np.linspace(start=5, stop=30, num=6)]\n",
    "min_samples_split = [2, 5, 10]\n",
    "min_samples_leaf = [1, 2, 4]\n",
    "bootstrap = [True, False]\n",
    "random_grid = {'n_estimators': n_estimators,\n",
    "               'max_features': max_features,\n",
    "               'max_depth': max_depth,\n",
    "               'min_samples_split': min_samples_split,\n",
    "               'min_samples_leaf': min_samples_leaf,\n",
    "               'bootstrap': bootstrap}"
   ],
   "id": "68b13e189bf98ef",
   "outputs": [],
   "execution_count": null
  },
  {
   "metadata": {},
   "cell_type": "code",
   "source": "from sklearn.model_selection import RandomizedSearchCV",
   "id": "cfd7e0d34d8a7890",
   "outputs": [],
   "execution_count": null
  },
  {
   "metadata": {},
   "cell_type": "code",
   "source": "final_regressor = RandomizedSearchCV(estimator=regression, param_distributions=random_grid, cv=5, random_state=42, n_jobs=1, scoring='neg_mean_squared_error', verbose=2)",
   "id": "baa631dbca56ded6",
   "outputs": [],
   "execution_count": null
  },
  {
   "metadata": {},
   "cell_type": "code",
   "source": "final_regressor.fit(x_train, y_train)",
   "id": "cb2a6eff2ca0cae7",
   "outputs": [],
   "execution_count": null
  },
  {
   "metadata": {},
   "cell_type": "code",
   "source": "final_regressor.best_params_",
   "id": "3cc390e7e6e70921",
   "outputs": [],
   "execution_count": null
  },
  {
   "metadata": {},
   "cell_type": "code",
   "source": "y_pred = final_regressor.predict(x_test)",
   "id": "47f3aa2d1b148181",
   "outputs": [],
   "execution_count": null
  },
  {
   "metadata": {},
   "cell_type": "code",
   "source": "plt.scatter(y_test, y_pred)",
   "id": "f690c2f70e0f140",
   "outputs": [],
   "execution_count": null
  },
  {
   "metadata": {},
   "cell_type": "code",
   "source": "r2_score(y_test, y_pred)",
   "id": "6882c939ed0b3e99",
   "outputs": [],
   "execution_count": null
  }
 ],
 "metadata": {
  "kernelspec": {
   "display_name": "Python 3",
   "language": "python",
   "name": "python3"
  },
  "language_info": {
   "codemirror_mode": {
    "name": "ipython",
    "version": 2
   },
   "file_extension": ".py",
   "mimetype": "text/x-python",
   "name": "python",
   "nbconvert_exporter": "python",
   "pygments_lexer": "ipython2",
   "version": "2.7.6"
  }
 },
 "nbformat": 4,
 "nbformat_minor": 5
}
